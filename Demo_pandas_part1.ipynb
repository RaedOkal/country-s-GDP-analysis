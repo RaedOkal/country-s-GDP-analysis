{
 "cells": [
  {
   "cell_type": "markdown",
   "metadata": {},
   "source": [
    "# python_P1"
   ]
  },
  {
   "cell_type": "markdown",
   "metadata": {},
   "source": [
    "Federal Aviation Administration(إدارة الطيران الفيدرالية)"
   ]
  },
  {
   "cell_type": "markdown",
   "metadata": {},
   "source": [
    "the linke : https://wildlife.faa.gov/"
   ]
  },
  {
   "cell_type": "markdown",
   "metadata": {},
   "source": [
    "#### 1_ view :"
   ]
  },
  {
   "cell_type": "markdown",
   "metadata": {},
   "source": [
    "1 aircraft manufacturer\n"
   ]
  },
  {
   "cell_type": "markdown",
   "metadata": {},
   "source": [
    "2 state"
   ]
  },
  {
   "cell_type": "markdown",
   "metadata": {},
   "source": [
    "3 model"
   ]
  },
  {
   "cell_type": "markdown",
   "metadata": {},
   "source": [
    "4 Airport"
   ]
  },
  {
   "cell_type": "markdown",
   "metadata": {},
   "source": [
    "5 flight phase"
   ]
  },
  {
   "cell_type": "markdown",
   "metadata": {},
   "source": [
    "6 Flight Impact"
   ]
  },
  {
   "cell_type": "markdown",
   "metadata": {},
   "source": [
    "#### 2_ clean the data set and replace the fatal flag NAN with No(the nulls)"
   ]
  },
  {
   "cell_type": "markdown",
   "metadata": {},
   "source": [
    "#### 3_remove all observations when aircraft names are not available"
   ]
  },
  {
   "cell_type": "markdown",
   "metadata": {},
   "source": [
    "#### 4_find the diffrence type of aircrafts and their occurrences(dublicats)"
   ]
  },
  {
   "cell_type": "markdown",
   "metadata": {},
   "source": [
    "####  5_explore the flight impact"
   ]
  },
  {
   "cell_type": "markdown",
   "metadata": {},
   "source": [
    "#### 6_veiw the flight impact with PRECAUTIONARY lANDING"
   ]
  },
  {
   "cell_type": "code",
   "execution_count": 32,
   "metadata": {},
   "outputs": [],
   "source": [
    "import numpy as np\n",
    "import pandas as pd"
   ]
  },
  {
   "cell_type": "code",
   "execution_count": 33,
   "metadata": {},
   "outputs": [
    {
     "name": "stderr",
     "output_type": "stream",
     "text": [
      "C:\\Users\\lenovo ideapad130\\AppData\\Local\\Temp\\ipykernel_26736\\151842801.py:2: DtypeWarning: Columns (9,12,15,17) have mixed types. Specify dtype option on import or set low_memory=False.\n",
      "  df_faa=pd.read_csv('database.csv')\n"
     ]
    }
   ],
   "source": [
    "# reading the FAA dataset\n",
    "df_faa=pd.read_csv('database.csv')"
   ]
  },
  {
   "cell_type": "code",
   "execution_count": 34,
   "metadata": {},
   "outputs": [
    {
     "data": {
      "text/plain": [
       "(174104, 66)"
      ]
     },
     "execution_count": 34,
     "metadata": {},
     "output_type": "execute_result"
    }
   ],
   "source": [
    "df_faa.shape"
   ]
  },
  {
   "cell_type": "code",
   "execution_count": 35,
   "metadata": {},
   "outputs": [
    {
     "data": {
      "text/html": [
       "<div>\n",
       "<style scoped>\n",
       "    .dataframe tbody tr th:only-of-type {\n",
       "        vertical-align: middle;\n",
       "    }\n",
       "\n",
       "    .dataframe tbody tr th {\n",
       "        vertical-align: top;\n",
       "    }\n",
       "\n",
       "    .dataframe thead th {\n",
       "        text-align: right;\n",
       "    }\n",
       "</style>\n",
       "<table border=\"1\" class=\"dataframe\">\n",
       "  <thead>\n",
       "    <tr style=\"text-align: right;\">\n",
       "      <th></th>\n",
       "      <th>Record ID</th>\n",
       "      <th>Incident Year</th>\n",
       "      <th>Incident Month</th>\n",
       "      <th>Incident Day</th>\n",
       "      <th>Operator ID</th>\n",
       "      <th>Operator</th>\n",
       "      <th>Aircraft</th>\n",
       "      <th>Aircraft Type</th>\n",
       "      <th>Aircraft Make</th>\n",
       "      <th>Aircraft Model</th>\n",
       "      <th>...</th>\n",
       "      <th>Fuselage Strike</th>\n",
       "      <th>Fuselage Damage</th>\n",
       "      <th>Landing Gear Strike</th>\n",
       "      <th>Landing Gear Damage</th>\n",
       "      <th>Tail Strike</th>\n",
       "      <th>Tail Damage</th>\n",
       "      <th>Lights Strike</th>\n",
       "      <th>Lights Damage</th>\n",
       "      <th>Other Strike</th>\n",
       "      <th>Other Damage</th>\n",
       "    </tr>\n",
       "  </thead>\n",
       "  <tbody>\n",
       "    <tr>\n",
       "      <th>0</th>\n",
       "      <td>127128</td>\n",
       "      <td>1990</td>\n",
       "      <td>1</td>\n",
       "      <td>1</td>\n",
       "      <td>DAL</td>\n",
       "      <td>DELTA AIR LINES</td>\n",
       "      <td>B-757-200</td>\n",
       "      <td>A</td>\n",
       "      <td>148</td>\n",
       "      <td>26</td>\n",
       "      <td>...</td>\n",
       "      <td>0</td>\n",
       "      <td>0</td>\n",
       "      <td>0</td>\n",
       "      <td>0</td>\n",
       "      <td>1</td>\n",
       "      <td>1</td>\n",
       "      <td>0</td>\n",
       "      <td>0</td>\n",
       "      <td>0</td>\n",
       "      <td>0</td>\n",
       "    </tr>\n",
       "    <tr>\n",
       "      <th>1</th>\n",
       "      <td>129779</td>\n",
       "      <td>1990</td>\n",
       "      <td>1</td>\n",
       "      <td>1</td>\n",
       "      <td>HAL</td>\n",
       "      <td>HAWAIIAN AIR</td>\n",
       "      <td>DC-9</td>\n",
       "      <td>A</td>\n",
       "      <td>583</td>\n",
       "      <td>90</td>\n",
       "      <td>...</td>\n",
       "      <td>0</td>\n",
       "      <td>0</td>\n",
       "      <td>0</td>\n",
       "      <td>0</td>\n",
       "      <td>0</td>\n",
       "      <td>0</td>\n",
       "      <td>0</td>\n",
       "      <td>0</td>\n",
       "      <td>1</td>\n",
       "      <td>0</td>\n",
       "    </tr>\n",
       "    <tr>\n",
       "      <th>2</th>\n",
       "      <td>129780</td>\n",
       "      <td>1990</td>\n",
       "      <td>1</td>\n",
       "      <td>2</td>\n",
       "      <td>UNK</td>\n",
       "      <td>UNKNOWN</td>\n",
       "      <td>UNKNOWN</td>\n",
       "      <td>NaN</td>\n",
       "      <td>NaN</td>\n",
       "      <td>NaN</td>\n",
       "      <td>...</td>\n",
       "      <td>0</td>\n",
       "      <td>0</td>\n",
       "      <td>0</td>\n",
       "      <td>0</td>\n",
       "      <td>0</td>\n",
       "      <td>0</td>\n",
       "      <td>0</td>\n",
       "      <td>0</td>\n",
       "      <td>0</td>\n",
       "      <td>0</td>\n",
       "    </tr>\n",
       "    <tr>\n",
       "      <th>3</th>\n",
       "      <td>2258</td>\n",
       "      <td>1990</td>\n",
       "      <td>1</td>\n",
       "      <td>3</td>\n",
       "      <td>MIL</td>\n",
       "      <td>MILITARY</td>\n",
       "      <td>A-10A</td>\n",
       "      <td>A</td>\n",
       "      <td>345</td>\n",
       "      <td>NaN</td>\n",
       "      <td>...</td>\n",
       "      <td>0</td>\n",
       "      <td>0</td>\n",
       "      <td>0</td>\n",
       "      <td>0</td>\n",
       "      <td>0</td>\n",
       "      <td>0</td>\n",
       "      <td>0</td>\n",
       "      <td>0</td>\n",
       "      <td>0</td>\n",
       "      <td>0</td>\n",
       "    </tr>\n",
       "    <tr>\n",
       "      <th>4</th>\n",
       "      <td>2257</td>\n",
       "      <td>1990</td>\n",
       "      <td>1</td>\n",
       "      <td>3</td>\n",
       "      <td>MIL</td>\n",
       "      <td>MILITARY</td>\n",
       "      <td>F-16</td>\n",
       "      <td>A</td>\n",
       "      <td>561</td>\n",
       "      <td>NaN</td>\n",
       "      <td>...</td>\n",
       "      <td>0</td>\n",
       "      <td>0</td>\n",
       "      <td>0</td>\n",
       "      <td>0</td>\n",
       "      <td>0</td>\n",
       "      <td>0</td>\n",
       "      <td>0</td>\n",
       "      <td>0</td>\n",
       "      <td>0</td>\n",
       "      <td>0</td>\n",
       "    </tr>\n",
       "  </tbody>\n",
       "</table>\n",
       "<p>5 rows × 66 columns</p>\n",
       "</div>"
      ],
      "text/plain": [
       "   Record ID  Incident Year  Incident Month  Incident Day Operator ID  \\\n",
       "0     127128           1990               1             1         DAL   \n",
       "1     129779           1990               1             1         HAL   \n",
       "2     129780           1990               1             2         UNK   \n",
       "3       2258           1990               1             3         MIL   \n",
       "4       2257           1990               1             3         MIL   \n",
       "\n",
       "          Operator   Aircraft Aircraft Type Aircraft Make Aircraft Model  ...  \\\n",
       "0  DELTA AIR LINES  B-757-200             A           148             26  ...   \n",
       "1     HAWAIIAN AIR       DC-9             A           583             90  ...   \n",
       "2          UNKNOWN    UNKNOWN           NaN           NaN            NaN  ...   \n",
       "3         MILITARY      A-10A             A           345            NaN  ...   \n",
       "4         MILITARY       F-16             A           561            NaN  ...   \n",
       "\n",
       "   Fuselage Strike  Fuselage Damage Landing Gear Strike  Landing Gear Damage  \\\n",
       "0                0                0                   0                    0   \n",
       "1                0                0                   0                    0   \n",
       "2                0                0                   0                    0   \n",
       "3                0                0                   0                    0   \n",
       "4                0                0                   0                    0   \n",
       "\n",
       "  Tail Strike Tail Damage  Lights Strike Lights Damage  Other Strike  \\\n",
       "0           1           1              0             0             0   \n",
       "1           0           0              0             0             1   \n",
       "2           0           0              0             0             0   \n",
       "3           0           0              0             0             0   \n",
       "4           0           0              0             0             0   \n",
       "\n",
       "  Other Damage  \n",
       "0            0  \n",
       "1            0  \n",
       "2            0  \n",
       "3            0  \n",
       "4            0  \n",
       "\n",
       "[5 rows x 66 columns]"
      ]
     },
     "execution_count": 35,
     "metadata": {},
     "output_type": "execute_result"
    }
   ],
   "source": [
    "df_faa.head()"
   ]
  },
  {
   "cell_type": "code",
   "execution_count": 36,
   "metadata": {},
   "outputs": [
    {
     "name": "stdout",
     "output_type": "stream",
     "text": [
      "<class 'pandas.core.frame.DataFrame'>\n",
      "RangeIndex: 174104 entries, 0 to 174103\n",
      "Data columns (total 66 columns):\n",
      " #   Column                Non-Null Count   Dtype  \n",
      "---  ------                --------------   -----  \n",
      " 0   Record ID             174104 non-null  int64  \n",
      " 1   Incident Year         174104 non-null  int64  \n",
      " 2   Incident Month        174104 non-null  int64  \n",
      " 3   Incident Day          174104 non-null  int64  \n",
      " 4   Operator ID           174104 non-null  object \n",
      " 5   Operator              174104 non-null  object \n",
      " 6   Aircraft              174104 non-null  object \n",
      " 7   Aircraft Type         133074 non-null  object \n",
      " 8   Aircraft Make         131051 non-null  object \n",
      " 9   Aircraft Model        122439 non-null  object \n",
      " 10  Aircraft Mass         127320 non-null  float64\n",
      " 11  Engine Make           123434 non-null  float64\n",
      " 12  Engine Model          121988 non-null  object \n",
      " 13  Engines               127342 non-null  float64\n",
      " 14  Engine Type           127282 non-null  object \n",
      " 15  Engine1 Position      126193 non-null  object \n",
      " 16  Engine2 Position      118715 non-null  float64\n",
      " 17  Engine3 Position      11659 non-null   object \n",
      " 18  Engine4 Position      3092 non-null    float64\n",
      " 19  Airport ID            174104 non-null  object \n",
      " 20  Airport               173814 non-null  object \n",
      " 21  State                 152128 non-null  object \n",
      " 22  FAA Region            155202 non-null  object \n",
      " 23  Warning Issued        76418 non-null   object \n",
      " 24  Flight Phase          118802 non-null  object \n",
      " 25  Visibility            109933 non-null  object \n",
      " 26  Precipitation         88322 non-null   object \n",
      " 27  Height                103677 non-null  float64\n",
      " 28  Speed                 71258 non-null   float64\n",
      " 29  Distance              99713 non-null   float64\n",
      " 30  Species ID            174104 non-null  object \n",
      " 31  Species Name          174024 non-null  object \n",
      " 32  Species Quantity      169627 non-null  object \n",
      " 33  Flight Impact         99465 non-null   object \n",
      " 34  Fatalities            565 non-null     float64\n",
      " 35  Injuries              229 non-null     float64\n",
      " 36  Aircraft Damage       174104 non-null  int64  \n",
      " 37  Radome Strike         174104 non-null  int64  \n",
      " 38  Radome Damage         174104 non-null  int64  \n",
      " 39  Windshield Strike     174104 non-null  int64  \n",
      " 40  Windshield Damage     174104 non-null  int64  \n",
      " 41  Nose Strike           174104 non-null  int64  \n",
      " 42  Nose Damage           174104 non-null  int64  \n",
      " 43  Engine1 Strike        174104 non-null  int64  \n",
      " 44  Engine1 Damage        174104 non-null  int64  \n",
      " 45  Engine2 Strike        174104 non-null  int64  \n",
      " 46  Engine2 Damage        174104 non-null  int64  \n",
      " 47  Engine3 Strike        174104 non-null  int64  \n",
      " 48  Engine3 Damage        174104 non-null  int64  \n",
      " 49  Engine4 Strike        174104 non-null  int64  \n",
      " 50  Engine4 Damage        174104 non-null  int64  \n",
      " 51  Engine Ingested       174104 non-null  int64  \n",
      " 52  Propeller Strike      174104 non-null  int64  \n",
      " 53  Propeller Damage      174104 non-null  int64  \n",
      " 54  Wing or Rotor Strike  174104 non-null  int64  \n",
      " 55  Wing or Rotor Damage  174104 non-null  int64  \n",
      " 56  Fuselage Strike       174104 non-null  int64  \n",
      " 57  Fuselage Damage       174104 non-null  int64  \n",
      " 58  Landing Gear Strike   174104 non-null  int64  \n",
      " 59  Landing Gear Damage   174104 non-null  int64  \n",
      " 60  Tail Strike           174104 non-null  int64  \n",
      " 61  Tail Damage           174104 non-null  int64  \n",
      " 62  Lights Strike         174104 non-null  int64  \n",
      " 63  Lights Damage         174104 non-null  int64  \n",
      " 64  Other Strike          174104 non-null  int64  \n",
      " 65  Other Damage          174104 non-null  int64  \n",
      "dtypes: float64(10), int64(34), object(22)\n",
      "memory usage: 87.7+ MB\n"
     ]
    }
   ],
   "source": [
    "df_faa.info()"
   ]
  },
  {
   "cell_type": "code",
   "execution_count": 37,
   "metadata": {},
   "outputs": [
    {
     "data": {
      "text/plain": [
       "Index(['Record ID', 'Incident Year', 'Incident Month', 'Incident Day',\n",
       "       'Operator ID', 'Operator', 'Aircraft', 'Aircraft Type', 'Aircraft Make',\n",
       "       'Aircraft Model', 'Aircraft Mass', 'Engine Make', 'Engine Model',\n",
       "       'Engines', 'Engine Type', 'Engine1 Position', 'Engine2 Position',\n",
       "       'Engine3 Position', 'Engine4 Position', 'Airport ID', 'Airport',\n",
       "       'State', 'FAA Region', 'Warning Issued', 'Flight Phase', 'Visibility',\n",
       "       'Precipitation', 'Height', 'Speed', 'Distance', 'Species ID',\n",
       "       'Species Name', 'Species Quantity', 'Flight Impact', 'Fatalities',\n",
       "       'Injuries', 'Aircraft Damage', 'Radome Strike', 'Radome Damage',\n",
       "       'Windshield Strike', 'Windshield Damage', 'Nose Strike', 'Nose Damage',\n",
       "       'Engine1 Strike', 'Engine1 Damage', 'Engine2 Strike', 'Engine2 Damage',\n",
       "       'Engine3 Strike', 'Engine3 Damage', 'Engine4 Strike', 'Engine4 Damage',\n",
       "       'Engine Ingested', 'Propeller Strike', 'Propeller Damage',\n",
       "       'Wing or Rotor Strike', 'Wing or Rotor Damage', 'Fuselage Strike',\n",
       "       'Fuselage Damage', 'Landing Gear Strike', 'Landing Gear Damage',\n",
       "       'Tail Strike', 'Tail Damage', 'Lights Strike', 'Lights Damage',\n",
       "       'Other Strike', 'Other Damage'],\n",
       "      dtype='object')"
      ]
     },
     "execution_count": 37,
     "metadata": {},
     "output_type": "execute_result"
    }
   ],
   "source": [
    "df_faa.columns"
   ]
  },
  {
   "cell_type": "code",
   "execution_count": 38,
   "metadata": {},
   "outputs": [],
   "source": [
    "#filtering the data by the required columns\n",
    "df_faa=df_faa[['Aircraft','State','Aircraft Model','Airport','Flight Phase','Flight Impact']]\n"
   ]
  },
  {
   "cell_type": "code",
   "execution_count": 39,
   "metadata": {},
   "outputs": [
    {
     "data": {
      "text/html": [
       "<div>\n",
       "<style scoped>\n",
       "    .dataframe tbody tr th:only-of-type {\n",
       "        vertical-align: middle;\n",
       "    }\n",
       "\n",
       "    .dataframe tbody tr th {\n",
       "        vertical-align: top;\n",
       "    }\n",
       "\n",
       "    .dataframe thead th {\n",
       "        text-align: right;\n",
       "    }\n",
       "</style>\n",
       "<table border=\"1\" class=\"dataframe\">\n",
       "  <thead>\n",
       "    <tr style=\"text-align: right;\">\n",
       "      <th></th>\n",
       "      <th>Aircraft</th>\n",
       "      <th>State</th>\n",
       "      <th>Aircraft Model</th>\n",
       "      <th>Airport</th>\n",
       "      <th>Flight Phase</th>\n",
       "      <th>Flight Impact</th>\n",
       "    </tr>\n",
       "  </thead>\n",
       "  <tbody>\n",
       "    <tr>\n",
       "      <th>0</th>\n",
       "      <td>B-757-200</td>\n",
       "      <td>KY</td>\n",
       "      <td>26</td>\n",
       "      <td>CINCINNATI/NORTHERN KENTUCKY INTL ARPT</td>\n",
       "      <td>CLIMB</td>\n",
       "      <td>NaN</td>\n",
       "    </tr>\n",
       "    <tr>\n",
       "      <th>1</th>\n",
       "      <td>DC-9</td>\n",
       "      <td>HI</td>\n",
       "      <td>90</td>\n",
       "      <td>LIHUE ARPT</td>\n",
       "      <td>TAKEOFF RUN</td>\n",
       "      <td>NaN</td>\n",
       "    </tr>\n",
       "    <tr>\n",
       "      <th>2</th>\n",
       "      <td>UNKNOWN</td>\n",
       "      <td>HI</td>\n",
       "      <td>NaN</td>\n",
       "      <td>LIHUE ARPT</td>\n",
       "      <td>NaN</td>\n",
       "      <td>NaN</td>\n",
       "    </tr>\n",
       "    <tr>\n",
       "      <th>3</th>\n",
       "      <td>A-10A</td>\n",
       "      <td>SC</td>\n",
       "      <td>NaN</td>\n",
       "      <td>MYRTLE BEACH INTL</td>\n",
       "      <td>APPROACH</td>\n",
       "      <td>NaN</td>\n",
       "    </tr>\n",
       "    <tr>\n",
       "      <th>4</th>\n",
       "      <td>F-16</td>\n",
       "      <td>FL</td>\n",
       "      <td>NaN</td>\n",
       "      <td>JACKSONVILLE INTL</td>\n",
       "      <td>CLIMB</td>\n",
       "      <td>NaN</td>\n",
       "    </tr>\n",
       "  </tbody>\n",
       "</table>\n",
       "</div>"
      ],
      "text/plain": [
       "    Aircraft State Aircraft Model                                 Airport  \\\n",
       "0  B-757-200    KY             26  CINCINNATI/NORTHERN KENTUCKY INTL ARPT   \n",
       "1       DC-9    HI             90                              LIHUE ARPT   \n",
       "2    UNKNOWN    HI            NaN                              LIHUE ARPT   \n",
       "3      A-10A    SC            NaN                       MYRTLE BEACH INTL   \n",
       "4       F-16    FL            NaN                       JACKSONVILLE INTL   \n",
       "\n",
       "  Flight Phase Flight Impact  \n",
       "0        CLIMB           NaN  \n",
       "1  TAKEOFF RUN           NaN  \n",
       "2          NaN           NaN  \n",
       "3     APPROACH           NaN  \n",
       "4        CLIMB           NaN  "
      ]
     },
     "execution_count": 39,
     "metadata": {},
     "output_type": "execute_result"
    }
   ],
   "source": [
    "df_faa.head()"
   ]
  },
  {
   "cell_type": "code",
   "execution_count": 48,
   "metadata": {},
   "outputs": [
    {
     "data": {
      "text/html": [
       "<div>\n",
       "<style scoped>\n",
       "    .dataframe tbody tr th:only-of-type {\n",
       "        vertical-align: middle;\n",
       "    }\n",
       "\n",
       "    .dataframe tbody tr th {\n",
       "        vertical-align: top;\n",
       "    }\n",
       "\n",
       "    .dataframe thead th {\n",
       "        text-align: right;\n",
       "    }\n",
       "</style>\n",
       "<table border=\"1\" class=\"dataframe\">\n",
       "  <thead>\n",
       "    <tr style=\"text-align: right;\">\n",
       "      <th></th>\n",
       "      <th>Aircraft</th>\n",
       "      <th>State</th>\n",
       "      <th>Aircraft Model</th>\n",
       "      <th>Airport</th>\n",
       "      <th>Flight Phase</th>\n",
       "      <th>Flight Impact</th>\n",
       "    </tr>\n",
       "  </thead>\n",
       "  <tbody>\n",
       "    <tr>\n",
       "      <th>0</th>\n",
       "      <td>B-757-200</td>\n",
       "      <td>KY</td>\n",
       "      <td>26</td>\n",
       "      <td>CINCINNATI/NORTHERN KENTUCKY INTL ARPT</td>\n",
       "      <td>CLIMB</td>\n",
       "      <td>no</td>\n",
       "    </tr>\n",
       "    <tr>\n",
       "      <th>1</th>\n",
       "      <td>DC-9</td>\n",
       "      <td>HI</td>\n",
       "      <td>90</td>\n",
       "      <td>LIHUE ARPT</td>\n",
       "      <td>TAKEOFF RUN</td>\n",
       "      <td>no</td>\n",
       "    </tr>\n",
       "    <tr>\n",
       "      <th>2</th>\n",
       "      <td>UNKNOWN</td>\n",
       "      <td>HI</td>\n",
       "      <td>no</td>\n",
       "      <td>LIHUE ARPT</td>\n",
       "      <td>no</td>\n",
       "      <td>no</td>\n",
       "    </tr>\n",
       "    <tr>\n",
       "      <th>3</th>\n",
       "      <td>A-10A</td>\n",
       "      <td>SC</td>\n",
       "      <td>no</td>\n",
       "      <td>MYRTLE BEACH INTL</td>\n",
       "      <td>APPROACH</td>\n",
       "      <td>no</td>\n",
       "    </tr>\n",
       "    <tr>\n",
       "      <th>4</th>\n",
       "      <td>F-16</td>\n",
       "      <td>FL</td>\n",
       "      <td>no</td>\n",
       "      <td>JACKSONVILLE INTL</td>\n",
       "      <td>CLIMB</td>\n",
       "      <td>no</td>\n",
       "    </tr>\n",
       "  </tbody>\n",
       "</table>\n",
       "</div>"
      ],
      "text/plain": [
       "    Aircraft State Aircraft Model                                 Airport  \\\n",
       "0  B-757-200    KY             26  CINCINNATI/NORTHERN KENTUCKY INTL ARPT   \n",
       "1       DC-9    HI             90                              LIHUE ARPT   \n",
       "2    UNKNOWN    HI             no                              LIHUE ARPT   \n",
       "3      A-10A    SC             no                       MYRTLE BEACH INTL   \n",
       "4       F-16    FL             no                       JACKSONVILLE INTL   \n",
       "\n",
       "  Flight Phase Flight Impact  \n",
       "0        CLIMB            no  \n",
       "1  TAKEOFF RUN            no  \n",
       "2           no            no  \n",
       "3     APPROACH            no  \n",
       "4        CLIMB            no  "
      ]
     },
     "execution_count": 48,
     "metadata": {},
     "output_type": "execute_result"
    }
   ],
   "source": [
    "# replace the fatal flag NAN with No\n",
    "dff=df_faa.fillna('no')\n",
    "dff.head()"
   ]
  },
  {
   "cell_type": "code",
   "execution_count": 49,
   "metadata": {},
   "outputs": [
    {
     "data": {
      "text/plain": [
       "(174104, 6)"
      ]
     },
     "execution_count": 49,
     "metadata": {},
     "output_type": "execute_result"
    }
   ],
   "source": [
    "dff.shape"
   ]
  },
  {
   "cell_type": "code",
   "execution_count": 57,
   "metadata": {},
   "outputs": [],
   "source": [
    "# remove all observations when aircraft names are not available\n",
    "dff1=dff.dropna(subset=['Aircraft'])"
   ]
  },
  {
   "cell_type": "code",
   "execution_count": 58,
   "metadata": {},
   "outputs": [
    {
     "data": {
      "text/plain": [
       "(174104, 6)"
      ]
     },
     "execution_count": 58,
     "metadata": {},
     "output_type": "execute_result"
    }
   ],
   "source": [
    "dff1.shape # all the observations are available"
   ]
  },
  {
   "cell_type": "code",
   "execution_count": 69,
   "metadata": {},
   "outputs": [],
   "source": [
    "# group the dataset by Aircraft\n",
    "AircraftType=dff1.groupby('Aircraft')"
   ]
  },
  {
   "cell_type": "code",
   "execution_count": 71,
   "metadata": {},
   "outputs": [
    {
     "data": {
      "text/plain": [
       "Aircraft\n",
       "A-10               6\n",
       "A-10A            132\n",
       "A-300           2953\n",
       "A-310            699\n",
       "A-318            138\n",
       "                ... \n",
       "WC-135             2\n",
       "WC-135B            1\n",
       "WC-135C            4\n",
       "WC-135W            2\n",
       "ZODIAC CH601       1\n",
       "Length: 656, dtype: int64"
      ]
     },
     "execution_count": 71,
     "metadata": {},
     "output_type": "execute_result"
    }
   ],
   "source": [
    "AircraftType.size()\n",
    "# you can see list of all Aircrafts types and the nuber of times they appeard in the data set"
   ]
  },
  {
   "cell_type": "code",
   "execution_count": 77,
   "metadata": {},
   "outputs": [],
   "source": [
    "FlightImpact=dff1.groupby('Flight Impact')"
   ]
  },
  {
   "cell_type": "code",
   "execution_count": 78,
   "metadata": {},
   "outputs": [
    {
     "data": {
      "text/plain": [
       "Flight Impact\n",
       "ABORTED TAKEOFF           2352\n",
       "ENGINE SHUT DOWN           248\n",
       "ENGINE SHUTDOWN            215\n",
       "NONE                     88082\n",
       "OTHER                     2423\n",
       "PRECAUTIONARY LANDING     6145\n",
       "no                       74639\n",
       "dtype: int64"
      ]
     },
     "execution_count": 78,
     "metadata": {},
     "output_type": "execute_result"
    }
   ],
   "source": [
    "FlightImpact.size()"
   ]
  },
  {
   "cell_type": "code",
   "execution_count": 94,
   "metadata": {},
   "outputs": [],
   "source": [
    "# Flight Impact with PRECAUTIONARY LANDING\n",
    "PRECAUTIONARY_lANDING=FlightImpact.get_group('PRECAUTIONARY LANDING')"
   ]
  },
  {
   "cell_type": "code",
   "execution_count": 95,
   "metadata": {},
   "outputs": [
    {
     "data": {
      "text/html": [
       "<div>\n",
       "<style scoped>\n",
       "    .dataframe tbody tr th:only-of-type {\n",
       "        vertical-align: middle;\n",
       "    }\n",
       "\n",
       "    .dataframe tbody tr th {\n",
       "        vertical-align: top;\n",
       "    }\n",
       "\n",
       "    .dataframe thead th {\n",
       "        text-align: right;\n",
       "    }\n",
       "</style>\n",
       "<table border=\"1\" class=\"dataframe\">\n",
       "  <thead>\n",
       "    <tr style=\"text-align: right;\">\n",
       "      <th></th>\n",
       "      <th>Aircraft</th>\n",
       "      <th>State</th>\n",
       "      <th>Aircraft Model</th>\n",
       "      <th>Airport</th>\n",
       "      <th>Flight Phase</th>\n",
       "      <th>Flight Impact</th>\n",
       "    </tr>\n",
       "  </thead>\n",
       "  <tbody>\n",
       "    <tr>\n",
       "      <th>12</th>\n",
       "      <td>HAWKER-SDLY HS125</td>\n",
       "      <td>TN</td>\n",
       "      <td>30</td>\n",
       "      <td>JOHN C TUNE ARPT</td>\n",
       "      <td>TAKEOFF RUN</td>\n",
       "      <td>PRECAUTIONARY LANDING</td>\n",
       "    </tr>\n",
       "    <tr>\n",
       "      <th>14</th>\n",
       "      <td>B-737-300</td>\n",
       "      <td>LA</td>\n",
       "      <td>24</td>\n",
       "      <td>LOUIE ARMSTRONG NEW ORLEANS INTL ARPT</td>\n",
       "      <td>TAKEOFF RUN</td>\n",
       "      <td>PRECAUTIONARY LANDING</td>\n",
       "    </tr>\n",
       "    <tr>\n",
       "      <th>31</th>\n",
       "      <td>BE-36</td>\n",
       "      <td>no</td>\n",
       "      <td>8</td>\n",
       "      <td>UNKNOWN</td>\n",
       "      <td>CLIMB</td>\n",
       "      <td>PRECAUTIONARY LANDING</td>\n",
       "    </tr>\n",
       "    <tr>\n",
       "      <th>53</th>\n",
       "      <td>B-737</td>\n",
       "      <td>CA</td>\n",
       "      <td>95</td>\n",
       "      <td>SACRAMENTO INTL</td>\n",
       "      <td>TAKEOFF RUN</td>\n",
       "      <td>PRECAUTIONARY LANDING</td>\n",
       "    </tr>\n",
       "    <tr>\n",
       "      <th>90</th>\n",
       "      <td>SA227 AC METRO III</td>\n",
       "      <td>MO</td>\n",
       "      <td>7</td>\n",
       "      <td>LAMBERT-ST LOUIS INTL</td>\n",
       "      <td>CLIMB</td>\n",
       "      <td>PRECAUTIONARY LANDING</td>\n",
       "    </tr>\n",
       "    <tr>\n",
       "      <th>...</th>\n",
       "      <td>...</td>\n",
       "      <td>...</td>\n",
       "      <td>...</td>\n",
       "      <td>...</td>\n",
       "      <td>...</td>\n",
       "      <td>...</td>\n",
       "    </tr>\n",
       "    <tr>\n",
       "      <th>173985</th>\n",
       "      <td>EC135</td>\n",
       "      <td>no</td>\n",
       "      <td>5.0</td>\n",
       "      <td>no</td>\n",
       "      <td>EN ROUTE</td>\n",
       "      <td>PRECAUTIONARY LANDING</td>\n",
       "    </tr>\n",
       "    <tr>\n",
       "      <th>174027</th>\n",
       "      <td>B-737-500</td>\n",
       "      <td>FL</td>\n",
       "      <td>33.0</td>\n",
       "      <td>FORT LAUDERDALE/HOLLYWOOD INTL</td>\n",
       "      <td>CLIMB</td>\n",
       "      <td>PRECAUTIONARY LANDING</td>\n",
       "    </tr>\n",
       "    <tr>\n",
       "      <th>174030</th>\n",
       "      <td>BELL-206</td>\n",
       "      <td>no</td>\n",
       "      <td>4.0</td>\n",
       "      <td>no</td>\n",
       "      <td>EN ROUTE</td>\n",
       "      <td>PRECAUTIONARY LANDING</td>\n",
       "    </tr>\n",
       "    <tr>\n",
       "      <th>174033</th>\n",
       "      <td>EXPERIMENTAL</td>\n",
       "      <td>no</td>\n",
       "      <td>3.0</td>\n",
       "      <td>no</td>\n",
       "      <td>EN ROUTE</td>\n",
       "      <td>PRECAUTIONARY LANDING</td>\n",
       "    </tr>\n",
       "    <tr>\n",
       "      <th>174058</th>\n",
       "      <td>BE-400 BJET</td>\n",
       "      <td>MN</td>\n",
       "      <td>32.0</td>\n",
       "      <td>ROCHESTER INTL</td>\n",
       "      <td>CLIMB</td>\n",
       "      <td>PRECAUTIONARY LANDING</td>\n",
       "    </tr>\n",
       "  </tbody>\n",
       "</table>\n",
       "<p>6145 rows × 6 columns</p>\n",
       "</div>"
      ],
      "text/plain": [
       "                  Aircraft State Aircraft Model  \\\n",
       "12       HAWKER-SDLY HS125    TN             30   \n",
       "14               B-737-300    LA             24   \n",
       "31                   BE-36    no              8   \n",
       "53                   B-737    CA             95   \n",
       "90      SA227 AC METRO III    MO              7   \n",
       "...                    ...   ...            ...   \n",
       "173985               EC135    no            5.0   \n",
       "174027           B-737-500    FL           33.0   \n",
       "174030            BELL-206    no            4.0   \n",
       "174033        EXPERIMENTAL    no            3.0   \n",
       "174058         BE-400 BJET    MN           32.0   \n",
       "\n",
       "                                      Airport Flight Phase  \\\n",
       "12                           JOHN C TUNE ARPT  TAKEOFF RUN   \n",
       "14      LOUIE ARMSTRONG NEW ORLEANS INTL ARPT  TAKEOFF RUN   \n",
       "31                                    UNKNOWN        CLIMB   \n",
       "53                            SACRAMENTO INTL  TAKEOFF RUN   \n",
       "90                      LAMBERT-ST LOUIS INTL        CLIMB   \n",
       "...                                       ...          ...   \n",
       "173985                                     no     EN ROUTE   \n",
       "174027         FORT LAUDERDALE/HOLLYWOOD INTL        CLIMB   \n",
       "174030                                     no     EN ROUTE   \n",
       "174033                                     no     EN ROUTE   \n",
       "174058                         ROCHESTER INTL        CLIMB   \n",
       "\n",
       "                Flight Impact  \n",
       "12      PRECAUTIONARY LANDING  \n",
       "14      PRECAUTIONARY LANDING  \n",
       "31      PRECAUTIONARY LANDING  \n",
       "53      PRECAUTIONARY LANDING  \n",
       "90      PRECAUTIONARY LANDING  \n",
       "...                       ...  \n",
       "173985  PRECAUTIONARY LANDING  \n",
       "174027  PRECAUTIONARY LANDING  \n",
       "174030  PRECAUTIONARY LANDING  \n",
       "174033  PRECAUTIONARY LANDING  \n",
       "174058  PRECAUTIONARY LANDING  \n",
       "\n",
       "[6145 rows x 6 columns]"
      ]
     },
     "execution_count": 95,
     "metadata": {},
     "output_type": "execute_result"
    }
   ],
   "source": [
    "# veiw the flight impact with PRECAUTIONARY lANDING\n",
    "PRECAUTIONARY_lANDING"
   ]
  },
  {
   "cell_type": "markdown",
   "metadata": {},
   "source": [
    "Check if the database is unique\n",
    "data['ID'].count(),\n",
    "for col in data.columns:\n",
    "    print(col,len(data[col])),\n",
    "data['Country'].duplicated()"
   ]
  }
 ],
 "metadata": {
  "kernelspec": {
   "display_name": "Python 3.10.4 64-bit",
   "language": "python",
   "name": "python3"
  },
  "language_info": {
   "codemirror_mode": {
    "name": "ipython",
    "version": 3
   },
   "file_extension": ".py",
   "mimetype": "text/x-python",
   "name": "python",
   "nbconvert_exporter": "python",
   "pygments_lexer": "ipython3",
   "version": "3.10.4"
  },
  "orig_nbformat": 4,
  "vscode": {
   "interpreter": {
    "hash": "9677b04aa48d3d5e628c90dc42a5496ce4dd0e854300188d092aefe987e73260"
   }
  }
 },
 "nbformat": 4,
 "nbformat_minor": 2
}
