{
 "cells": [
  {
   "cell_type": "markdown",
   "metadata": {},
   "source": [
    "# • project objective:"
   ]
  },
  {
   "cell_type": "markdown",
   "metadata": {},
   "source": [
    "We needs to collect data by scraping the website \"https://2u.pw/AXCb7\" to get GDP data to analyze, and answer some questions"
   ]
  },
  {
   "cell_type": "markdown",
   "metadata": {},
   "source": [
    "#### Evaluate the dataset containing the GDPs of different countries to:"
   ]
  },
  {
   "cell_type": "markdown",
   "metadata": {},
   "source": [
    "• Find the country with the highest GDP and the country with the lowest GDP"
   ]
  },
  {
   "cell_type": "markdown",
   "metadata": {},
   "source": [
    "• Print out the entire list of the countries with their GDPs"
   ]
  },
  {
   "cell_type": "markdown",
   "metadata": {},
   "source": [
    "• Print the highest GDP value, lowest GDP value, mean GDP value, standardized GDP \n",
    "value, and the sum of all the GDPs"
   ]
  },
  {
   "cell_type": "markdown",
   "metadata": {},
   "source": [
    "• the top 5 highest GDP countries "
   ]
  },
  {
   "cell_type": "markdown",
   "metadata": {},
   "source": [
    "• Share of World GDP for the top six "
   ]
  },
  {
   "cell_type": "markdown",
   "metadata": {},
   "source": [
    "****"
   ]
  },
  {
   "cell_type": "code",
   "execution_count": 118,
   "metadata": {},
   "outputs": [],
   "source": [
    "import pandas as pd \n",
    "import numpy as np\n",
    "from skimpy import clean_columns\n",
    "import matplotlib.pyplot as plt\n",
    "%matplotlib inline"
   ]
  },
  {
   "cell_type": "code",
   "execution_count": 119,
   "metadata": {},
   "outputs": [],
   "source": [
    "data=pd.read_csv('web_data_cleaned.csv')"
   ]
  },
  {
   "cell_type": "code",
   "execution_count": 120,
   "metadata": {},
   "outputs": [
    {
     "data": {
      "text/html": [
       "<div>\n",
       "<style scoped>\n",
       "    .dataframe tbody tr th:only-of-type {\n",
       "        vertical-align: middle;\n",
       "    }\n",
       "\n",
       "    .dataframe tbody tr th {\n",
       "        vertical-align: top;\n",
       "    }\n",
       "\n",
       "    .dataframe thead th {\n",
       "        text-align: right;\n",
       "    }\n",
       "</style>\n",
       "<table border=\"1\" class=\"dataframe\">\n",
       "  <thead>\n",
       "    <tr style=\"text-align: right;\">\n",
       "      <th></th>\n",
       "      <th>ID</th>\n",
       "      <th>Country</th>\n",
       "      <th>GDP (nominal, 2017)</th>\n",
       "      <th>GDP growth</th>\n",
       "      <th>Population (2017)</th>\n",
       "      <th>GDP per capita</th>\n",
       "      <th>Share of World GDP</th>\n",
       "    </tr>\n",
       "  </thead>\n",
       "  <tbody>\n",
       "    <tr>\n",
       "      <th>0</th>\n",
       "      <td>1</td>\n",
       "      <td>United States</td>\n",
       "      <td>19485394000000</td>\n",
       "      <td>2.27%</td>\n",
       "      <td>325084756</td>\n",
       "      <td>$59,939</td>\n",
       "      <td>24.08%</td>\n",
       "    </tr>\n",
       "    <tr>\n",
       "      <th>1</th>\n",
       "      <td>2</td>\n",
       "      <td>China</td>\n",
       "      <td>12237700479375</td>\n",
       "      <td>6.90%</td>\n",
       "      <td>1421021791</td>\n",
       "      <td>$8,612</td>\n",
       "      <td>15.12%</td>\n",
       "    </tr>\n",
       "    <tr>\n",
       "      <th>2</th>\n",
       "      <td>3</td>\n",
       "      <td>Japan</td>\n",
       "      <td>4872415104315</td>\n",
       "      <td>1.71%</td>\n",
       "      <td>127502725</td>\n",
       "      <td>$38,214</td>\n",
       "      <td>6.02%</td>\n",
       "    </tr>\n",
       "    <tr>\n",
       "      <th>3</th>\n",
       "      <td>4</td>\n",
       "      <td>Germany</td>\n",
       "      <td>3693204332230</td>\n",
       "      <td>2.22%</td>\n",
       "      <td>82658409</td>\n",
       "      <td>$44,680</td>\n",
       "      <td>4.56%</td>\n",
       "    </tr>\n",
       "    <tr>\n",
       "      <th>4</th>\n",
       "      <td>5</td>\n",
       "      <td>India</td>\n",
       "      <td>2650725335364</td>\n",
       "      <td>6.68%</td>\n",
       "      <td>1338676785</td>\n",
       "      <td>$1,980</td>\n",
       "      <td>3.28%</td>\n",
       "    </tr>\n",
       "  </tbody>\n",
       "</table>\n",
       "</div>"
      ],
      "text/plain": [
       "   ID        Country  GDP (nominal, 2017) GDP growth  Population (2017)  \\\n",
       "0   1  United States       19485394000000      2.27%          325084756   \n",
       "1   2          China       12237700479375      6.90%         1421021791   \n",
       "2   3          Japan        4872415104315      1.71%          127502725   \n",
       "3   4        Germany        3693204332230      2.22%           82658409   \n",
       "4   5          India        2650725335364      6.68%         1338676785   \n",
       "\n",
       "  GDP per capita Share of World GDP  \n",
       "0       $59,939              24.08%  \n",
       "1        $8,612              15.12%  \n",
       "2       $38,214               6.02%  \n",
       "3       $44,680               4.56%  \n",
       "4        $1,980               3.28%  "
      ]
     },
     "execution_count": 120,
     "metadata": {},
     "output_type": "execute_result"
    }
   ],
   "source": [
    "data.head()"
   ]
  },
  {
   "cell_type": "code",
   "execution_count": 121,
   "metadata": {},
   "outputs": [
    {
     "name": "stdout",
     "output_type": "stream",
     "text": [
      "<class 'pandas.core.frame.DataFrame'>\n",
      "RangeIndex: 190 entries, 0 to 189\n",
      "Data columns (total 7 columns):\n",
      " #   Column               Non-Null Count  Dtype \n",
      "---  ------               --------------  ----- \n",
      " 0   ID                   190 non-null    int64 \n",
      " 1   Country              190 non-null    object\n",
      " 2   GDP (nominal, 2017)  190 non-null    int64 \n",
      " 3   GDP growth           190 non-null    object\n",
      " 4   Population (2017)    190 non-null    int64 \n",
      " 5   GDP per capita       190 non-null    object\n",
      " 6   Share of World GDP   190 non-null    object\n",
      "dtypes: int64(3), object(4)\n",
      "memory usage: 10.5+ KB\n"
     ]
    }
   ],
   "source": [
    "data.info()"
   ]
  },
  {
   "cell_type": "code",
   "execution_count": 122,
   "metadata": {},
   "outputs": [
    {
     "data": {
      "text/plain": [
       "ID                     False\n",
       "Country                False\n",
       "GDP (nominal, 2017)    False\n",
       "GDP growth             False\n",
       "Population (2017)      False\n",
       "GDP per capita         False\n",
       "Share of World GDP     False\n",
       "dtype: bool"
      ]
     },
     "execution_count": 122,
     "metadata": {},
     "output_type": "execute_result"
    }
   ],
   "source": [
    "data.isna().any()"
   ]
  },
  {
   "cell_type": "code",
   "execution_count": 123,
   "metadata": {},
   "outputs": [
    {
     "data": {
      "text/plain": [
       "0      False\n",
       "1      False\n",
       "2      False\n",
       "3      False\n",
       "4      False\n",
       "       ...  \n",
       "185    False\n",
       "186    False\n",
       "187    False\n",
       "188    False\n",
       "189    False\n",
       "Name: Country, Length: 190, dtype: bool"
      ]
     },
     "execution_count": 123,
     "metadata": {},
     "output_type": "execute_result"
    }
   ],
   "source": [
    "data['Country'].duplicated()\n"
   ]
  },
  {
   "cell_type": "code",
   "execution_count": 124,
   "metadata": {},
   "outputs": [
    {
     "data": {
      "text/html": [
       "<pre style=\"white-space:pre;overflow-x:auto;line-height:normal;font-family:Menlo,'DejaVu Sans Mono',consolas,'Courier New',monospace\"><span style=\"color: #008080; text-decoration-color: #008080; font-weight: bold\">6</span> column names have been cleaned\n",
       "</pre>\n"
      ],
      "text/plain": [
       "\u001b[1;36m6\u001b[0m column names have been cleaned\n"
      ]
     },
     "metadata": {},
     "output_type": "display_data"
    }
   ],
   "source": [
    "df = clean_columns(data, case = 'pascal')"
   ]
  },
  {
   "cell_type": "code",
   "execution_count": 125,
   "metadata": {},
   "outputs": [
    {
     "data": {
      "text/html": [
       "<div>\n",
       "<style scoped>\n",
       "    .dataframe tbody tr th:only-of-type {\n",
       "        vertical-align: middle;\n",
       "    }\n",
       "\n",
       "    .dataframe tbody tr th {\n",
       "        vertical-align: top;\n",
       "    }\n",
       "\n",
       "    .dataframe thead th {\n",
       "        text-align: right;\n",
       "    }\n",
       "</style>\n",
       "<table border=\"1\" class=\"dataframe\">\n",
       "  <thead>\n",
       "    <tr style=\"text-align: right;\">\n",
       "      <th></th>\n",
       "      <th>Id</th>\n",
       "      <th>Country</th>\n",
       "      <th>GdpNominal2017</th>\n",
       "      <th>GdpGrowth</th>\n",
       "      <th>Population2017</th>\n",
       "      <th>GdpPerCapita</th>\n",
       "      <th>ShareOfWorldGdp</th>\n",
       "    </tr>\n",
       "  </thead>\n",
       "  <tbody>\n",
       "    <tr>\n",
       "      <th>0</th>\n",
       "      <td>1</td>\n",
       "      <td>United States</td>\n",
       "      <td>19485394000000</td>\n",
       "      <td>2.27%</td>\n",
       "      <td>325084756</td>\n",
       "      <td>$59,939</td>\n",
       "      <td>24.08%</td>\n",
       "    </tr>\n",
       "    <tr>\n",
       "      <th>1</th>\n",
       "      <td>2</td>\n",
       "      <td>China</td>\n",
       "      <td>12237700479375</td>\n",
       "      <td>6.90%</td>\n",
       "      <td>1421021791</td>\n",
       "      <td>$8,612</td>\n",
       "      <td>15.12%</td>\n",
       "    </tr>\n",
       "    <tr>\n",
       "      <th>2</th>\n",
       "      <td>3</td>\n",
       "      <td>Japan</td>\n",
       "      <td>4872415104315</td>\n",
       "      <td>1.71%</td>\n",
       "      <td>127502725</td>\n",
       "      <td>$38,214</td>\n",
       "      <td>6.02%</td>\n",
       "    </tr>\n",
       "    <tr>\n",
       "      <th>3</th>\n",
       "      <td>4</td>\n",
       "      <td>Germany</td>\n",
       "      <td>3693204332230</td>\n",
       "      <td>2.22%</td>\n",
       "      <td>82658409</td>\n",
       "      <td>$44,680</td>\n",
       "      <td>4.56%</td>\n",
       "    </tr>\n",
       "    <tr>\n",
       "      <th>4</th>\n",
       "      <td>5</td>\n",
       "      <td>India</td>\n",
       "      <td>2650725335364</td>\n",
       "      <td>6.68%</td>\n",
       "      <td>1338676785</td>\n",
       "      <td>$1,980</td>\n",
       "      <td>3.28%</td>\n",
       "    </tr>\n",
       "    <tr>\n",
       "      <th>...</th>\n",
       "      <td>...</td>\n",
       "      <td>...</td>\n",
       "      <td>...</td>\n",
       "      <td>...</td>\n",
       "      <td>...</td>\n",
       "      <td>...</td>\n",
       "      <td>...</td>\n",
       "    </tr>\n",
       "    <tr>\n",
       "      <th>185</th>\n",
       "      <td>186</td>\n",
       "      <td>Micronesia</td>\n",
       "      <td>336427500</td>\n",
       "      <td>3.20%</td>\n",
       "      <td>532899</td>\n",
       "      <td>$631</td>\n",
       "      <td>0.00%</td>\n",
       "    </tr>\n",
       "    <tr>\n",
       "      <th>186</th>\n",
       "      <td>187</td>\n",
       "      <td>Palau</td>\n",
       "      <td>289823500</td>\n",
       "      <td>-3.57%</td>\n",
       "      <td>17808</td>\n",
       "      <td>$16,275</td>\n",
       "      <td>0.00%</td>\n",
       "    </tr>\n",
       "    <tr>\n",
       "      <th>187</th>\n",
       "      <td>188</td>\n",
       "      <td>Marshall Islands</td>\n",
       "      <td>204173430</td>\n",
       "      <td>3.60%</td>\n",
       "      <td>58058</td>\n",
       "      <td>$3,517</td>\n",
       "      <td>0.00%</td>\n",
       "    </tr>\n",
       "    <tr>\n",
       "      <th>188</th>\n",
       "      <td>189</td>\n",
       "      <td>Kiribati</td>\n",
       "      <td>185572502</td>\n",
       "      <td>0.33%</td>\n",
       "      <td>114158</td>\n",
       "      <td>$1,626</td>\n",
       "      <td>0.00%</td>\n",
       "    </tr>\n",
       "    <tr>\n",
       "      <th>189</th>\n",
       "      <td>190</td>\n",
       "      <td>Tuvalu</td>\n",
       "      <td>39731317</td>\n",
       "      <td>3.24%</td>\n",
       "      <td>11370</td>\n",
       "      <td>$3,494</td>\n",
       "      <td>0.00%</td>\n",
       "    </tr>\n",
       "  </tbody>\n",
       "</table>\n",
       "<p>190 rows × 7 columns</p>\n",
       "</div>"
      ],
      "text/plain": [
       "      Id           Country  GdpNominal2017 GdpGrowth  Population2017  \\\n",
       "0      1     United States  19485394000000     2.27%       325084756   \n",
       "1      2             China  12237700479375     6.90%      1421021791   \n",
       "2      3             Japan   4872415104315     1.71%       127502725   \n",
       "3      4           Germany   3693204332230     2.22%        82658409   \n",
       "4      5             India   2650725335364     6.68%      1338676785   \n",
       "..   ...               ...             ...       ...             ...   \n",
       "185  186        Micronesia       336427500     3.20%          532899   \n",
       "186  187             Palau       289823500    -3.57%           17808   \n",
       "187  188  Marshall Islands       204173430     3.60%           58058   \n",
       "188  189          Kiribati       185572502     0.33%          114158   \n",
       "189  190            Tuvalu        39731317     3.24%           11370   \n",
       "\n",
       "    GdpPerCapita ShareOfWorldGdp  \n",
       "0       $59,939           24.08%  \n",
       "1        $8,612           15.12%  \n",
       "2       $38,214            6.02%  \n",
       "3       $44,680            4.56%  \n",
       "4        $1,980            3.28%  \n",
       "..           ...             ...  \n",
       "185        $631            0.00%  \n",
       "186     $16,275            0.00%  \n",
       "187      $3,517            0.00%  \n",
       "188      $1,626            0.00%  \n",
       "189      $3,494            0.00%  \n",
       "\n",
       "[190 rows x 7 columns]"
      ]
     },
     "execution_count": 125,
     "metadata": {},
     "output_type": "execute_result"
    }
   ],
   "source": [
    "df"
   ]
  },
  {
   "cell_type": "code",
   "execution_count": 126,
   "metadata": {},
   "outputs": [
    {
     "data": {
      "text/html": [
       "<pre style=\"white-space:pre;overflow-x:auto;line-height:normal;font-family:Menlo,'DejaVu Sans Mono',consolas,'Courier New',monospace\"><span style=\"color: #008080; text-decoration-color: #008080; font-weight: bold\">2</span> column names have been cleaned\n",
       "</pre>\n"
      ],
      "text/plain": [
       "\u001b[1;36m2\u001b[0m column names have been cleaned\n"
      ]
     },
     "metadata": {},
     "output_type": "display_data"
    }
   ],
   "source": [
    "df = clean_columns(df, case = 'pascal', replace = {'GdpNominal2017':'GDP',\n",
    "'Population2017':'Population'})"
   ]
  },
  {
   "cell_type": "code",
   "execution_count": 127,
   "metadata": {},
   "outputs": [
    {
     "data": {
      "text/html": [
       "<div>\n",
       "<style scoped>\n",
       "    .dataframe tbody tr th:only-of-type {\n",
       "        vertical-align: middle;\n",
       "    }\n",
       "\n",
       "    .dataframe tbody tr th {\n",
       "        vertical-align: top;\n",
       "    }\n",
       "\n",
       "    .dataframe thead th {\n",
       "        text-align: right;\n",
       "    }\n",
       "</style>\n",
       "<table border=\"1\" class=\"dataframe\">\n",
       "  <thead>\n",
       "    <tr style=\"text-align: right;\">\n",
       "      <th></th>\n",
       "      <th>Id</th>\n",
       "      <th>Country</th>\n",
       "      <th>Gdp</th>\n",
       "      <th>GdpGrowth</th>\n",
       "      <th>Population</th>\n",
       "      <th>GdpPerCapita</th>\n",
       "      <th>ShareOfWorldGdp</th>\n",
       "    </tr>\n",
       "  </thead>\n",
       "  <tbody>\n",
       "    <tr>\n",
       "      <th>0</th>\n",
       "      <td>1</td>\n",
       "      <td>United States</td>\n",
       "      <td>19485394000000</td>\n",
       "      <td>2.27%</td>\n",
       "      <td>325084756</td>\n",
       "      <td>$59,939</td>\n",
       "      <td>24.08%</td>\n",
       "    </tr>\n",
       "    <tr>\n",
       "      <th>1</th>\n",
       "      <td>2</td>\n",
       "      <td>China</td>\n",
       "      <td>12237700479375</td>\n",
       "      <td>6.90%</td>\n",
       "      <td>1421021791</td>\n",
       "      <td>$8,612</td>\n",
       "      <td>15.12%</td>\n",
       "    </tr>\n",
       "    <tr>\n",
       "      <th>2</th>\n",
       "      <td>3</td>\n",
       "      <td>Japan</td>\n",
       "      <td>4872415104315</td>\n",
       "      <td>1.71%</td>\n",
       "      <td>127502725</td>\n",
       "      <td>$38,214</td>\n",
       "      <td>6.02%</td>\n",
       "    </tr>\n",
       "    <tr>\n",
       "      <th>3</th>\n",
       "      <td>4</td>\n",
       "      <td>Germany</td>\n",
       "      <td>3693204332230</td>\n",
       "      <td>2.22%</td>\n",
       "      <td>82658409</td>\n",
       "      <td>$44,680</td>\n",
       "      <td>4.56%</td>\n",
       "    </tr>\n",
       "    <tr>\n",
       "      <th>4</th>\n",
       "      <td>5</td>\n",
       "      <td>India</td>\n",
       "      <td>2650725335364</td>\n",
       "      <td>6.68%</td>\n",
       "      <td>1338676785</td>\n",
       "      <td>$1,980</td>\n",
       "      <td>3.28%</td>\n",
       "    </tr>\n",
       "    <tr>\n",
       "      <th>...</th>\n",
       "      <td>...</td>\n",
       "      <td>...</td>\n",
       "      <td>...</td>\n",
       "      <td>...</td>\n",
       "      <td>...</td>\n",
       "      <td>...</td>\n",
       "      <td>...</td>\n",
       "    </tr>\n",
       "    <tr>\n",
       "      <th>185</th>\n",
       "      <td>186</td>\n",
       "      <td>Micronesia</td>\n",
       "      <td>336427500</td>\n",
       "      <td>3.20%</td>\n",
       "      <td>532899</td>\n",
       "      <td>$631</td>\n",
       "      <td>0.00%</td>\n",
       "    </tr>\n",
       "    <tr>\n",
       "      <th>186</th>\n",
       "      <td>187</td>\n",
       "      <td>Palau</td>\n",
       "      <td>289823500</td>\n",
       "      <td>-3.57%</td>\n",
       "      <td>17808</td>\n",
       "      <td>$16,275</td>\n",
       "      <td>0.00%</td>\n",
       "    </tr>\n",
       "    <tr>\n",
       "      <th>187</th>\n",
       "      <td>188</td>\n",
       "      <td>Marshall Islands</td>\n",
       "      <td>204173430</td>\n",
       "      <td>3.60%</td>\n",
       "      <td>58058</td>\n",
       "      <td>$3,517</td>\n",
       "      <td>0.00%</td>\n",
       "    </tr>\n",
       "    <tr>\n",
       "      <th>188</th>\n",
       "      <td>189</td>\n",
       "      <td>Kiribati</td>\n",
       "      <td>185572502</td>\n",
       "      <td>0.33%</td>\n",
       "      <td>114158</td>\n",
       "      <td>$1,626</td>\n",
       "      <td>0.00%</td>\n",
       "    </tr>\n",
       "    <tr>\n",
       "      <th>189</th>\n",
       "      <td>190</td>\n",
       "      <td>Tuvalu</td>\n",
       "      <td>39731317</td>\n",
       "      <td>3.24%</td>\n",
       "      <td>11370</td>\n",
       "      <td>$3,494</td>\n",
       "      <td>0.00%</td>\n",
       "    </tr>\n",
       "  </tbody>\n",
       "</table>\n",
       "<p>190 rows × 7 columns</p>\n",
       "</div>"
      ],
      "text/plain": [
       "      Id           Country             Gdp GdpGrowth  Population GdpPerCapita  \\\n",
       "0      1     United States  19485394000000     2.27%   325084756     $59,939    \n",
       "1      2             China  12237700479375     6.90%  1421021791      $8,612    \n",
       "2      3             Japan   4872415104315     1.71%   127502725     $38,214    \n",
       "3      4           Germany   3693204332230     2.22%    82658409     $44,680    \n",
       "4      5             India   2650725335364     6.68%  1338676785      $1,980    \n",
       "..   ...               ...             ...       ...         ...          ...   \n",
       "185  186        Micronesia       336427500     3.20%      532899        $631    \n",
       "186  187             Palau       289823500    -3.57%       17808     $16,275    \n",
       "187  188  Marshall Islands       204173430     3.60%       58058      $3,517    \n",
       "188  189          Kiribati       185572502     0.33%      114158      $1,626    \n",
       "189  190            Tuvalu        39731317     3.24%       11370      $3,494    \n",
       "\n",
       "    ShareOfWorldGdp  \n",
       "0            24.08%  \n",
       "1            15.12%  \n",
       "2             6.02%  \n",
       "3             4.56%  \n",
       "4             3.28%  \n",
       "..              ...  \n",
       "185           0.00%  \n",
       "186           0.00%  \n",
       "187           0.00%  \n",
       "188           0.00%  \n",
       "189           0.00%  \n",
       "\n",
       "[190 rows x 7 columns]"
      ]
     },
     "execution_count": 127,
     "metadata": {},
     "output_type": "execute_result"
    }
   ],
   "source": [
    "df"
   ]
  },
  {
   "cell_type": "markdown",
   "metadata": {},
   "source": [
    "***"
   ]
  },
  {
   "cell_type": "markdown",
   "metadata": {},
   "source": [
    "## EDA"
   ]
  },
  {
   "cell_type": "markdown",
   "metadata": {},
   "source": [
    "we needs to konw iqr to find the out liyers "
   ]
  },
  {
   "cell_type": "markdown",
   "metadata": {},
   "source": [
    "- min_out=q1-1.5*iqr\n",
    "- max-out=q3+1.5*iqr"
   ]
  },
  {
   "cell_type": "code",
   "execution_count": 128,
   "metadata": {},
   "outputs": [],
   "source": [
    "from scipy.stats import iqr"
   ]
  },
  {
   "cell_type": "code",
   "execution_count": 129,
   "metadata": {},
   "outputs": [
    {
     "data": {
      "text/plain": [
       "203638354736.0"
      ]
     },
     "execution_count": 129,
     "metadata": {},
     "output_type": "execute_result"
    }
   ],
   "source": [
    "iqr=iqr(df['Gdp'])\n",
    "iqr"
   ]
  },
  {
   "cell_type": "markdown",
   "metadata": {},
   "source": [
    "we needs to konw q1&q3 to find the out liyers "
   ]
  },
  {
   "cell_type": "code",
   "execution_count": 130,
   "metadata": {},
   "outputs": [
    {
     "data": {
      "text/plain": [
       "8121905952.5"
      ]
     },
     "execution_count": 130,
     "metadata": {},
     "output_type": "execute_result"
    }
   ],
   "source": [
    "q1=np.percentile(df['Gdp'],25)\n",
    "q1"
   ]
  },
  {
   "cell_type": "code",
   "execution_count": 131,
   "metadata": {},
   "outputs": [
    {
     "data": {
      "text/plain": [
       "211760260688.5"
      ]
     },
     "execution_count": 131,
     "metadata": {},
     "output_type": "execute_result"
    }
   ],
   "source": [
    "q3=np.percentile(df['Gdp'],75)\n",
    "q3"
   ]
  },
  {
   "cell_type": "code",
   "execution_count": 132,
   "metadata": {},
   "outputs": [],
   "source": [
    "#outliers\n",
    "min_out=q1-1.5*iqr\n",
    "max_out=q3+1.5*iqr"
   ]
  },
  {
   "cell_type": "code",
   "execution_count": 133,
   "metadata": {},
   "outputs": [
    {
     "data": {
      "text/plain": [
       "-297335626151.5"
      ]
     },
     "execution_count": 133,
     "metadata": {},
     "output_type": "execute_result"
    }
   ],
   "source": [
    "min_out"
   ]
  },
  {
   "cell_type": "code",
   "execution_count": 134,
   "metadata": {},
   "outputs": [
    {
     "data": {
      "text/plain": [
       "517217792792.5"
      ]
     },
     "execution_count": 134,
     "metadata": {},
     "output_type": "execute_result"
    }
   ],
   "source": [
    "max_out"
   ]
  },
  {
   "cell_type": "markdown",
   "metadata": {},
   "source": [
    "This means that any value that exceeds the outliers in GDP must be eliminated"
   ]
  },
  {
   "cell_type": "code",
   "execution_count": 135,
   "metadata": {},
   "outputs": [
    {
     "data": {
      "text/plain": [
       "count    1.900000e+02\n",
       "mean     4.188098e+11\n",
       "std      1.755006e+12\n",
       "min      3.973132e+07\n",
       "25%      8.121906e+09\n",
       "50%      3.639298e+10\n",
       "75%      2.117603e+11\n",
       "max      1.948539e+13\n",
       "Name: Gdp, dtype: float64"
      ]
     },
     "execution_count": 135,
     "metadata": {},
     "output_type": "execute_result"
    }
   ],
   "source": [
    "df['Gdp'].describe()"
   ]
  },
  {
   "cell_type": "code",
   "execution_count": 136,
   "metadata": {},
   "outputs": [
    {
     "data": {
      "text/plain": [
       "True"
      ]
     },
     "execution_count": 136,
     "metadata": {},
     "output_type": "execute_result"
    }
   ],
   "source": [
    "1.948539e+13>max_out\n",
    "#As you can see here, there is a skip to the outliers in the max ,'right skewed'"
   ]
  },
  {
   "cell_type": "code",
   "execution_count": 137,
   "metadata": {},
   "outputs": [
    {
     "data": {
      "text/plain": [
       "False"
      ]
     },
     "execution_count": 137,
     "metadata": {},
     "output_type": "execute_result"
    }
   ],
   "source": [
    "3.973132e+07<min_out\n",
    "# its fine , "
   ]
  },
  {
   "cell_type": "markdown",
   "metadata": {},
   "source": [
    "- right skewed , mean>meadian , skewed to the right\n",
    "- ____[__]______________*  , box plot\n",
    "- left skewed  , mean>meadian , \n",
    "- *____________________[___]____\n",
    "- symmetrical mean=meadian"
   ]
  },
  {
   "cell_type": "code",
   "execution_count": 138,
   "metadata": {},
   "outputs": [
    {
     "data": {
      "text/plain": [
       "418809811567.5263"
      ]
     },
     "execution_count": 138,
     "metadata": {},
     "output_type": "execute_result"
    }
   ],
   "source": [
    "mean=df['Gdp'].mean()\n",
    "mean"
   ]
  },
  {
   "cell_type": "code",
   "execution_count": 139,
   "metadata": {},
   "outputs": [
    {
     "data": {
      "text/plain": [
       "36392981114.5"
      ]
     },
     "execution_count": 139,
     "metadata": {},
     "output_type": "execute_result"
    }
   ],
   "source": [
    "meadian=df['Gdp'].median()\n",
    "meadian"
   ]
  },
  {
   "cell_type": "code",
   "execution_count": 140,
   "metadata": {},
   "outputs": [
    {
     "data": {
      "text/plain": [
       "True"
      ]
     },
     "execution_count": 140,
     "metadata": {},
     "output_type": "execute_result"
    }
   ],
   "source": [
    "meadian<mean"
   ]
  },
  {
   "cell_type": "code",
   "execution_count": 141,
   "metadata": {},
   "outputs": [],
   "source": [
    "import seaborn as sns"
   ]
  },
  {
   "cell_type": "code",
   "execution_count": 142,
   "metadata": {},
   "outputs": [
    {
     "data": {
      "text/plain": [
       "<AxesSubplot:xlabel='Gdp'>"
      ]
     },
     "execution_count": 142,
     "metadata": {},
     "output_type": "execute_result"
    },
    {
     "data": {
      "image/png": "[encoded data removed]",
      "text/plain": [
       "<Figure size 432x288 with 1 Axes>"
      ]
     },
     "metadata": {
      "needs_background": "light"
     },
     "output_type": "display_data"
    }
   ],
   "source": [
    "sns.violinplot(x=df[\"Gdp\"])"
   ]
  },
  {
   "cell_type": "code",
   "execution_count": 143,
   "metadata": {},
   "outputs": [
    {
     "data": {
      "text/plain": [
       "<AxesSubplot:xlabel='Gdp'>"
      ]
     },
     "execution_count": 143,
     "metadata": {},
     "output_type": "execute_result"
    },
    {
     "data": {
      "image/png": "[encoded data removed]",
      "text/plain": [
       "<Figure size 432x288 with 1 Axes>"
      ]
     },
     "metadata": {
      "needs_background": "light"
     },
     "output_type": "display_data"
    }
   ],
   "source": [
    "sns.boxplot(x=df[\"Gdp\"])"
   ]
  },
  {
   "cell_type": "markdown",
   "metadata": {},
   "source": [
    "handling outliers"
   ]
  },
  {
   "cell_type": "code",
   "execution_count": 144,
   "metadata": {},
   "outputs": [],
   "source": [
    "df= df[df['Gdp'] > max_out]"
   ]
  },
  {
   "cell_type": "code",
   "execution_count": 145,
   "metadata": {},
   "outputs": [
    {
     "data": {
      "text/html": [
       "<div>\n",
       "<style scoped>\n",
       "    .dataframe tbody tr th:only-of-type {\n",
       "        vertical-align: middle;\n",
       "    }\n",
       "\n",
       "    .dataframe tbody tr th {\n",
       "        vertical-align: top;\n",
       "    }\n",
       "\n",
       "    .dataframe thead th {\n",
       "        text-align: right;\n",
       "    }\n",
       "</style>\n",
       "<table border=\"1\" class=\"dataframe\">\n",
       "  <thead>\n",
       "    <tr style=\"text-align: right;\">\n",
       "      <th></th>\n",
       "      <th>Id</th>\n",
       "      <th>Country</th>\n",
       "      <th>Gdp</th>\n",
       "      <th>GdpGrowth</th>\n",
       "      <th>Population</th>\n",
       "      <th>GdpPerCapita</th>\n",
       "      <th>ShareOfWorldGdp</th>\n",
       "    </tr>\n",
       "  </thead>\n",
       "  <tbody>\n",
       "    <tr>\n",
       "      <th>0</th>\n",
       "      <td>1</td>\n",
       "      <td>United States</td>\n",
       "      <td>19485394000000</td>\n",
       "      <td>2.27%</td>\n",
       "      <td>325084756</td>\n",
       "      <td>$59,939</td>\n",
       "      <td>24.08%</td>\n",
       "    </tr>\n",
       "    <tr>\n",
       "      <th>1</th>\n",
       "      <td>2</td>\n",
       "      <td>China</td>\n",
       "      <td>12237700479375</td>\n",
       "      <td>6.90%</td>\n",
       "      <td>1421021791</td>\n",
       "      <td>$8,612</td>\n",
       "      <td>15.12%</td>\n",
       "    </tr>\n",
       "    <tr>\n",
       "      <th>2</th>\n",
       "      <td>3</td>\n",
       "      <td>Japan</td>\n",
       "      <td>4872415104315</td>\n",
       "      <td>1.71%</td>\n",
       "      <td>127502725</td>\n",
       "      <td>$38,214</td>\n",
       "      <td>6.02%</td>\n",
       "    </tr>\n",
       "    <tr>\n",
       "      <th>3</th>\n",
       "      <td>4</td>\n",
       "      <td>Germany</td>\n",
       "      <td>3693204332230</td>\n",
       "      <td>2.22%</td>\n",
       "      <td>82658409</td>\n",
       "      <td>$44,680</td>\n",
       "      <td>4.56%</td>\n",
       "    </tr>\n",
       "    <tr>\n",
       "      <th>4</th>\n",
       "      <td>5</td>\n",
       "      <td>India</td>\n",
       "      <td>2650725335364</td>\n",
       "      <td>6.68%</td>\n",
       "      <td>1338676785</td>\n",
       "      <td>$1,980</td>\n",
       "      <td>3.28%</td>\n",
       "    </tr>\n",
       "    <tr>\n",
       "      <th>5</th>\n",
       "      <td>6</td>\n",
       "      <td>United Kingdom</td>\n",
       "      <td>2637866340434</td>\n",
       "      <td>1.79%</td>\n",
       "      <td>66727461</td>\n",
       "      <td>$39,532</td>\n",
       "      <td>3.26%</td>\n",
       "    </tr>\n",
       "    <tr>\n",
       "      <th>6</th>\n",
       "      <td>7</td>\n",
       "      <td>France</td>\n",
       "      <td>2582501307216</td>\n",
       "      <td>1.82%</td>\n",
       "      <td>64842509</td>\n",
       "      <td>$39,827</td>\n",
       "      <td>3.19%</td>\n",
       "    </tr>\n",
       "    <tr>\n",
       "      <th>7</th>\n",
       "      <td>8</td>\n",
       "      <td>Brazil</td>\n",
       "      <td>2053594877013</td>\n",
       "      <td>0.98%</td>\n",
       "      <td>207833823</td>\n",
       "      <td>$9,881</td>\n",
       "      <td>2.54%</td>\n",
       "    </tr>\n",
       "    <tr>\n",
       "      <th>8</th>\n",
       "      <td>9</td>\n",
       "      <td>Italy</td>\n",
       "      <td>1943835376342</td>\n",
       "      <td>1.50%</td>\n",
       "      <td>60673701</td>\n",
       "      <td>$32,038</td>\n",
       "      <td>2.40%</td>\n",
       "    </tr>\n",
       "    <tr>\n",
       "      <th>9</th>\n",
       "      <td>10</td>\n",
       "      <td>Canada</td>\n",
       "      <td>1647120175449</td>\n",
       "      <td>3.05%</td>\n",
       "      <td>36732095</td>\n",
       "      <td>$44,841</td>\n",
       "      <td>2.04%</td>\n",
       "    </tr>\n",
       "    <tr>\n",
       "      <th>10</th>\n",
       "      <td>11</td>\n",
       "      <td>Russia</td>\n",
       "      <td>1578417211937</td>\n",
       "      <td>1.55%</td>\n",
       "      <td>145530082</td>\n",
       "      <td>$10,846</td>\n",
       "      <td>1.95%</td>\n",
       "    </tr>\n",
       "    <tr>\n",
       "      <th>11</th>\n",
       "      <td>12</td>\n",
       "      <td>South Korea</td>\n",
       "      <td>1530750923149</td>\n",
       "      <td>3.06%</td>\n",
       "      <td>51096415</td>\n",
       "      <td>$29,958</td>\n",
       "      <td>1.89%</td>\n",
       "    </tr>\n",
       "    <tr>\n",
       "      <th>12</th>\n",
       "      <td>13</td>\n",
       "      <td>Australia</td>\n",
       "      <td>1323421072479</td>\n",
       "      <td>1.96%</td>\n",
       "      <td>24584620</td>\n",
       "      <td>$53,831</td>\n",
       "      <td>1.64%</td>\n",
       "    </tr>\n",
       "    <tr>\n",
       "      <th>13</th>\n",
       "      <td>14</td>\n",
       "      <td>Spain</td>\n",
       "      <td>1314314164402</td>\n",
       "      <td>3.05%</td>\n",
       "      <td>46647428</td>\n",
       "      <td>$28,175</td>\n",
       "      <td>1.62%</td>\n",
       "    </tr>\n",
       "    <tr>\n",
       "      <th>14</th>\n",
       "      <td>15</td>\n",
       "      <td>Mexico</td>\n",
       "      <td>1150887823404</td>\n",
       "      <td>2.04%</td>\n",
       "      <td>124777324</td>\n",
       "      <td>$9,224</td>\n",
       "      <td>1.42%</td>\n",
       "    </tr>\n",
       "    <tr>\n",
       "      <th>15</th>\n",
       "      <td>16</td>\n",
       "      <td>Indonesia</td>\n",
       "      <td>1015420587285</td>\n",
       "      <td>5.07%</td>\n",
       "      <td>264650963</td>\n",
       "      <td>$3,837</td>\n",
       "      <td>1.25%</td>\n",
       "    </tr>\n",
       "    <tr>\n",
       "      <th>16</th>\n",
       "      <td>17</td>\n",
       "      <td>Turkey</td>\n",
       "      <td>851549299635</td>\n",
       "      <td>7.44%</td>\n",
       "      <td>81116450</td>\n",
       "      <td>$10,498</td>\n",
       "      <td>1.05%</td>\n",
       "    </tr>\n",
       "    <tr>\n",
       "      <th>17</th>\n",
       "      <td>18</td>\n",
       "      <td>Netherlands</td>\n",
       "      <td>830572618850</td>\n",
       "      <td>3.16%</td>\n",
       "      <td>17021347</td>\n",
       "      <td>$48,796</td>\n",
       "      <td>1.03%</td>\n",
       "    </tr>\n",
       "    <tr>\n",
       "      <th>18</th>\n",
       "      <td>19</td>\n",
       "      <td>Saudi Arabia</td>\n",
       "      <td>686738400000</td>\n",
       "      <td>-0.86%</td>\n",
       "      <td>33101179</td>\n",
       "      <td>$20,747</td>\n",
       "      <td>0.85%</td>\n",
       "    </tr>\n",
       "    <tr>\n",
       "      <th>19</th>\n",
       "      <td>20</td>\n",
       "      <td>Switzerland</td>\n",
       "      <td>678965423322</td>\n",
       "      <td>1.09%</td>\n",
       "      <td>8455804</td>\n",
       "      <td>$80,296</td>\n",
       "      <td>0.84%</td>\n",
       "    </tr>\n",
       "    <tr>\n",
       "      <th>20</th>\n",
       "      <td>21</td>\n",
       "      <td>Argentina</td>\n",
       "      <td>637430331479</td>\n",
       "      <td>2.85%</td>\n",
       "      <td>43937140</td>\n",
       "      <td>$14,508</td>\n",
       "      <td>0.79%</td>\n",
       "    </tr>\n",
       "    <tr>\n",
       "      <th>21</th>\n",
       "      <td>22</td>\n",
       "      <td>Sweden</td>\n",
       "      <td>535607385506</td>\n",
       "      <td>2.29%</td>\n",
       "      <td>9904896</td>\n",
       "      <td>$54,075</td>\n",
       "      <td>0.66%</td>\n",
       "    </tr>\n",
       "    <tr>\n",
       "      <th>22</th>\n",
       "      <td>23</td>\n",
       "      <td>Poland</td>\n",
       "      <td>526465839003</td>\n",
       "      <td>4.81%</td>\n",
       "      <td>37953180</td>\n",
       "      <td>$13,871</td>\n",
       "      <td>0.65%</td>\n",
       "    </tr>\n",
       "  </tbody>\n",
       "</table>\n",
       "</div>"
      ],
      "text/plain": [
       "    Id         Country             Gdp GdpGrowth  Population GdpPerCapita  \\\n",
       "0    1   United States  19485394000000     2.27%   325084756     $59,939    \n",
       "1    2           China  12237700479375     6.90%  1421021791      $8,612    \n",
       "2    3           Japan   4872415104315     1.71%   127502725     $38,214    \n",
       "3    4         Germany   3693204332230     2.22%    82658409     $44,680    \n",
       "4    5           India   2650725335364     6.68%  1338676785      $1,980    \n",
       "5    6  United Kingdom   2637866340434     1.79%    66727461     $39,532    \n",
       "6    7          France   2582501307216     1.82%    64842509     $39,827    \n",
       "7    8          Brazil   2053594877013     0.98%   207833823      $9,881    \n",
       "8    9           Italy   1943835376342     1.50%    60673701     $32,038    \n",
       "9   10          Canada   1647120175449     3.05%    36732095     $44,841    \n",
       "10  11          Russia   1578417211937     1.55%   145530082     $10,846    \n",
       "11  12     South Korea   1530750923149     3.06%    51096415     $29,958    \n",
       "12  13       Australia   1323421072479     1.96%    24584620     $53,831    \n",
       "13  14           Spain   1314314164402     3.05%    46647428     $28,175    \n",
       "14  15          Mexico   1150887823404     2.04%   124777324      $9,224    \n",
       "15  16       Indonesia   1015420587285     5.07%   264650963      $3,837    \n",
       "16  17          Turkey    851549299635     7.44%    81116450     $10,498    \n",
       "17  18     Netherlands    830572618850     3.16%    17021347     $48,796    \n",
       "18  19    Saudi Arabia    686738400000    -0.86%    33101179     $20,747    \n",
       "19  20     Switzerland    678965423322     1.09%     8455804     $80,296    \n",
       "20  21       Argentina    637430331479     2.85%    43937140     $14,508    \n",
       "21  22          Sweden    535607385506     2.29%     9904896     $54,075    \n",
       "22  23          Poland    526465839003     4.81%    37953180     $13,871    \n",
       "\n",
       "   ShareOfWorldGdp  \n",
       "0           24.08%  \n",
       "1           15.12%  \n",
       "2            6.02%  \n",
       "3            4.56%  \n",
       "4            3.28%  \n",
       "5            3.26%  \n",
       "6            3.19%  \n",
       "7            2.54%  \n",
       "8            2.40%  \n",
       "9            2.04%  \n",
       "10           1.95%  \n",
       "11           1.89%  \n",
       "12           1.64%  \n",
       "13           1.62%  \n",
       "14           1.42%  \n",
       "15           1.25%  \n",
       "16           1.05%  \n",
       "17           1.03%  \n",
       "18           0.85%  \n",
       "19           0.84%  \n",
       "20           0.79%  \n",
       "21           0.66%  \n",
       "22           0.65%  "
      ]
     },
     "execution_count": 145,
     "metadata": {},
     "output_type": "execute_result"
    }
   ],
   "source": [
    "df"
   ]
  },
  {
   "cell_type": "code",
   "execution_count": 146,
   "metadata": {},
   "outputs": [
    {
     "data": {
      "text/plain": [
       "<AxesSubplot:xlabel='Gdp'>"
      ]
     },
     "execution_count": 146,
     "metadata": {},
     "output_type": "execute_result"
    },
    {
     "data": {
      "image/png": "[encoded data removed]",
      "text/plain": [
       "<Figure size 432x288 with 1 Axes>"
      ]
     },
     "metadata": {
      "needs_background": "light"
     },
     "output_type": "display_data"
    }
   ],
   "source": [
    "sns.violinplot(x=df[\"Gdp\"])"
   ]
  },
  {
   "cell_type": "markdown",
   "metadata": {},
   "source": [
    "Obviously we dropped some countries that were outside the outliers in their GDP, we could have let them be ,but we are not going to use them in the analysis anyway"
   ]
  },
  {
   "cell_type": "code",
   "execution_count": null,
   "metadata": {},
   "outputs": [],
   "source": []
  },
  {
   "cell_type": "code",
   "execution_count": 147,
   "metadata": {},
   "outputs": [],
   "source": [
    "from pandas_profiling import ProfileReport"
   ]
  },
  {
   "cell_type": "code",
   "execution_count": 206,
   "metadata": {},
   "outputs": [
    {
     "name": "stderr",
     "output_type": "stream",
     "text": [
      "c:\\Users\\lenovo ideapad130\\AppData\\Local\\Programs\\Python\\Python310\\lib\\site-packages\\multimethod\\__init__.py:315: SettingWithCopyWarning: \n",
      "A value is trying to be set on a copy of a slice from a DataFrame\n",
      "\n",
      "See the caveats in the documentation: https://pandas.pydata.org/pandas-docs/stable/user_guide/indexing.html#returning-a-view-versus-a-copy\n",
      "  return func(*args, **kwargs)\n"
     ]
    },
    {
     "data": {
      "application/vnd.jupyter.widget-view+json": {
       "model_id": "3e59e13aed0541ecbbdb501a57c0b1c8",
       "version_major": 2,
       "version_minor": 0
      },
      "text/plain": [
       "Summarize dataset:   0%|          | 0/5 [00:00<?, ?it/s]"
      ]
     },
     "metadata": {},
     "output_type": "display_data"
    },
    {
     "data": {
      "application/vnd.jupyter.widget-view+json": {
       "model_id": "6b0ff8317ac64e73be1313023f6ad19b",
       "version_major": 2,
       "version_minor": 0
      },
      "text/plain": [
       "Generate report structure:   0%|          | 0/1 [00:00<?, ?it/s]"
      ]
     },
     "metadata": {},
     "output_type": "display_data"
    },
    {
     "data": {
      "application/vnd.jupyter.widget-view+json": {
       "model_id": "569f68503d5743a4af7ac38bb69430b9",
       "version_major": 2,
       "version_minor": 0
      },
      "text/plain": [
       "Render HTML:   0%|          | 0/1 [00:00<?, ?it/s]"
      ]
     },
     "metadata": {},
     "output_type": "display_data"
    },
    {
     "data": {
      "application/vnd.jupyter.widget-view+json": {
       "model_id": "610cacab55a741f78b02ec6d99b3dbfd",
       "version_major": 2,
       "version_minor": 0
      },
      "text/plain": [
       "Export report to file:   0%|          | 0/1 [00:00<?, ?it/s]"
      ]
     },
     "metadata": {},
     "output_type": "display_data"
    }
   ],
   "source": [
    "profile = ProfileReport(df)\n",
    "profile.to_file(\"EDA.html\")"
   ]
  },
  {
   "cell_type": "markdown",
   "metadata": {},
   "source": [
    "***"
   ]
  },
  {
   "cell_type": "markdown",
   "metadata": {},
   "source": [
    "faster"
   ]
  },
  {
   "cell_type": "code",
   "execution_count": 149,
   "metadata": {},
   "outputs": [
    {
     "data": {
      "text/plain": [
       "19485394000000"
      ]
     },
     "execution_count": 149,
     "metadata": {},
     "output_type": "execute_result"
    }
   ],
   "source": [
    "data['GDP (nominal, 2017)'].max()"
   ]
  },
  {
   "cell_type": "code",
   "execution_count": 150,
   "metadata": {},
   "outputs": [
    {
     "data": {
      "text/html": [
       "<div>\n",
       "<style scoped>\n",
       "    .dataframe tbody tr th:only-of-type {\n",
       "        vertical-align: middle;\n",
       "    }\n",
       "\n",
       "    .dataframe tbody tr th {\n",
       "        vertical-align: top;\n",
       "    }\n",
       "\n",
       "    .dataframe thead th {\n",
       "        text-align: right;\n",
       "    }\n",
       "</style>\n",
       "<table border=\"1\" class=\"dataframe\">\n",
       "  <thead>\n",
       "    <tr style=\"text-align: right;\">\n",
       "      <th></th>\n",
       "      <th>ID</th>\n",
       "      <th>Country</th>\n",
       "      <th>GDP (nominal, 2017)</th>\n",
       "      <th>GDP growth</th>\n",
       "      <th>Population (2017)</th>\n",
       "      <th>GDP per capita</th>\n",
       "      <th>Share of World GDP</th>\n",
       "    </tr>\n",
       "  </thead>\n",
       "  <tbody>\n",
       "    <tr>\n",
       "      <th>0</th>\n",
       "      <td>1</td>\n",
       "      <td>United States</td>\n",
       "      <td>19485394000000</td>\n",
       "      <td>2.27%</td>\n",
       "      <td>325084756</td>\n",
       "      <td>$59,939</td>\n",
       "      <td>24.08%</td>\n",
       "    </tr>\n",
       "  </tbody>\n",
       "</table>\n",
       "</div>"
      ],
      "text/plain": [
       "   ID        Country  GDP (nominal, 2017) GDP growth  Population (2017)  \\\n",
       "0   1  United States       19485394000000      2.27%          325084756   \n",
       "\n",
       "  GDP per capita Share of World GDP  \n",
       "0       $59,939              24.08%  "
      ]
     },
     "execution_count": 150,
     "metadata": {},
     "output_type": "execute_result"
    }
   ],
   "source": [
    "data[(data['GDP (nominal, 2017)']==19485394000000)]"
   ]
  },
  {
   "cell_type": "markdown",
   "metadata": {},
   "source": [
    "*****"
   ]
  },
  {
   "cell_type": "markdown",
   "metadata": {},
   "source": [
    "### Analyze the data and answer the questions"
   ]
  },
  {
   "cell_type": "markdown",
   "metadata": {},
   "source": [
    "the country with the lowest GDP"
   ]
  },
  {
   "cell_type": "code",
   "execution_count": 151,
   "metadata": {},
   "outputs": [
    {
     "data": {
      "text/plain": [
       "526465839003"
      ]
     },
     "execution_count": 151,
     "metadata": {},
     "output_type": "execute_result"
    }
   ],
   "source": [
    "lowest=df['Gdp'].min()\n",
    "lowest"
   ]
  },
  {
   "cell_type": "code",
   "execution_count": 152,
   "metadata": {},
   "outputs": [
    {
     "data": {
      "text/html": [
       "<div>\n",
       "<style scoped>\n",
       "    .dataframe tbody tr th:only-of-type {\n",
       "        vertical-align: middle;\n",
       "    }\n",
       "\n",
       "    .dataframe tbody tr th {\n",
       "        vertical-align: top;\n",
       "    }\n",
       "\n",
       "    .dataframe thead th {\n",
       "        text-align: right;\n",
       "    }\n",
       "</style>\n",
       "<table border=\"1\" class=\"dataframe\">\n",
       "  <thead>\n",
       "    <tr style=\"text-align: right;\">\n",
       "      <th></th>\n",
       "      <th>Id</th>\n",
       "      <th>Country</th>\n",
       "      <th>Gdp</th>\n",
       "      <th>GdpGrowth</th>\n",
       "      <th>Population</th>\n",
       "      <th>GdpPerCapita</th>\n",
       "      <th>ShareOfWorldGdp</th>\n",
       "    </tr>\n",
       "  </thead>\n",
       "  <tbody>\n",
       "    <tr>\n",
       "      <th>22</th>\n",
       "      <td>23</td>\n",
       "      <td>Poland</td>\n",
       "      <td>526465839003</td>\n",
       "      <td>4.81%</td>\n",
       "      <td>37953180</td>\n",
       "      <td>$13,871</td>\n",
       "      <td>0.65%</td>\n",
       "    </tr>\n",
       "  </tbody>\n",
       "</table>\n",
       "</div>"
      ],
      "text/plain": [
       "    Id Country           Gdp GdpGrowth  Population GdpPerCapita  \\\n",
       "22  23  Poland  526465839003     4.81%    37953180     $13,871    \n",
       "\n",
       "   ShareOfWorldGdp  \n",
       "22           0.65%  "
      ]
     },
     "execution_count": 152,
     "metadata": {},
     "output_type": "execute_result"
    }
   ],
   "source": [
    "df[(df['Gdp']==lowest)]"
   ]
  },
  {
   "cell_type": "markdown",
   "metadata": {},
   "source": [
    "the country with the highest GDP"
   ]
  },
  {
   "cell_type": "code",
   "execution_count": 153,
   "metadata": {},
   "outputs": [
    {
     "data": {
      "text/plain": [
       "19485394000000"
      ]
     },
     "execution_count": 153,
     "metadata": {},
     "output_type": "execute_result"
    }
   ],
   "source": [
    "highest=df['Gdp'].max()\n",
    "highest"
   ]
  },
  {
   "cell_type": "code",
   "execution_count": 154,
   "metadata": {},
   "outputs": [
    {
     "data": {
      "text/html": [
       "<div>\n",
       "<style scoped>\n",
       "    .dataframe tbody tr th:only-of-type {\n",
       "        vertical-align: middle;\n",
       "    }\n",
       "\n",
       "    .dataframe tbody tr th {\n",
       "        vertical-align: top;\n",
       "    }\n",
       "\n",
       "    .dataframe thead th {\n",
       "        text-align: right;\n",
       "    }\n",
       "</style>\n",
       "<table border=\"1\" class=\"dataframe\">\n",
       "  <thead>\n",
       "    <tr style=\"text-align: right;\">\n",
       "      <th></th>\n",
       "      <th>Id</th>\n",
       "      <th>Country</th>\n",
       "      <th>Gdp</th>\n",
       "      <th>GdpGrowth</th>\n",
       "      <th>Population</th>\n",
       "      <th>GdpPerCapita</th>\n",
       "      <th>ShareOfWorldGdp</th>\n",
       "    </tr>\n",
       "  </thead>\n",
       "  <tbody>\n",
       "    <tr>\n",
       "      <th>0</th>\n",
       "      <td>1</td>\n",
       "      <td>United States</td>\n",
       "      <td>19485394000000</td>\n",
       "      <td>2.27%</td>\n",
       "      <td>325084756</td>\n",
       "      <td>$59,939</td>\n",
       "      <td>24.08%</td>\n",
       "    </tr>\n",
       "  </tbody>\n",
       "</table>\n",
       "</div>"
      ],
      "text/plain": [
       "   Id        Country             Gdp GdpGrowth  Population GdpPerCapita  \\\n",
       "0   1  United States  19485394000000     2.27%   325084756     $59,939    \n",
       "\n",
       "  ShareOfWorldGdp  \n",
       "0          24.08%  "
      ]
     },
     "execution_count": 154,
     "metadata": {},
     "output_type": "execute_result"
    }
   ],
   "source": [
    "df[(df['Gdp']==highest)]"
   ]
  },
  {
   "cell_type": "code",
   "execution_count": 155,
   "metadata": {},
   "outputs": [],
   "source": [
    "#we can use it \n",
    "#h=np.where(df['Gdp'] == highest)\n",
    "#df.iloc[h]"
   ]
  },
  {
   "cell_type": "markdown",
   "metadata": {},
   "source": [
    "****"
   ]
  },
  {
   "cell_type": "markdown",
   "metadata": {},
   "source": [
    " Print out the entire list of the countries with their GDPs"
   ]
  },
  {
   "cell_type": "code",
   "execution_count": 156,
   "metadata": {},
   "outputs": [
    {
     "data": {
      "text/html": [
       "<div>\n",
       "<style scoped>\n",
       "    .dataframe tbody tr th:only-of-type {\n",
       "        vertical-align: middle;\n",
       "    }\n",
       "\n",
       "    .dataframe tbody tr th {\n",
       "        vertical-align: top;\n",
       "    }\n",
       "\n",
       "    .dataframe thead th {\n",
       "        text-align: right;\n",
       "    }\n",
       "</style>\n",
       "<table border=\"1\" class=\"dataframe\">\n",
       "  <thead>\n",
       "    <tr style=\"text-align: right;\">\n",
       "      <th></th>\n",
       "      <th>Country</th>\n",
       "      <th>Gdp</th>\n",
       "    </tr>\n",
       "  </thead>\n",
       "  <tbody>\n",
       "    <tr>\n",
       "      <th>0</th>\n",
       "      <td>United States</td>\n",
       "      <td>19485394000000</td>\n",
       "    </tr>\n",
       "    <tr>\n",
       "      <th>1</th>\n",
       "      <td>China</td>\n",
       "      <td>12237700479375</td>\n",
       "    </tr>\n",
       "    <tr>\n",
       "      <th>2</th>\n",
       "      <td>Japan</td>\n",
       "      <td>4872415104315</td>\n",
       "    </tr>\n",
       "    <tr>\n",
       "      <th>3</th>\n",
       "      <td>Germany</td>\n",
       "      <td>3693204332230</td>\n",
       "    </tr>\n",
       "    <tr>\n",
       "      <th>4</th>\n",
       "      <td>India</td>\n",
       "      <td>2650725335364</td>\n",
       "    </tr>\n",
       "    <tr>\n",
       "      <th>5</th>\n",
       "      <td>United Kingdom</td>\n",
       "      <td>2637866340434</td>\n",
       "    </tr>\n",
       "    <tr>\n",
       "      <th>6</th>\n",
       "      <td>France</td>\n",
       "      <td>2582501307216</td>\n",
       "    </tr>\n",
       "    <tr>\n",
       "      <th>7</th>\n",
       "      <td>Brazil</td>\n",
       "      <td>2053594877013</td>\n",
       "    </tr>\n",
       "    <tr>\n",
       "      <th>8</th>\n",
       "      <td>Italy</td>\n",
       "      <td>1943835376342</td>\n",
       "    </tr>\n",
       "    <tr>\n",
       "      <th>9</th>\n",
       "      <td>Canada</td>\n",
       "      <td>1647120175449</td>\n",
       "    </tr>\n",
       "    <tr>\n",
       "      <th>10</th>\n",
       "      <td>Russia</td>\n",
       "      <td>1578417211937</td>\n",
       "    </tr>\n",
       "    <tr>\n",
       "      <th>11</th>\n",
       "      <td>South Korea</td>\n",
       "      <td>1530750923149</td>\n",
       "    </tr>\n",
       "    <tr>\n",
       "      <th>12</th>\n",
       "      <td>Australia</td>\n",
       "      <td>1323421072479</td>\n",
       "    </tr>\n",
       "    <tr>\n",
       "      <th>13</th>\n",
       "      <td>Spain</td>\n",
       "      <td>1314314164402</td>\n",
       "    </tr>\n",
       "    <tr>\n",
       "      <th>14</th>\n",
       "      <td>Mexico</td>\n",
       "      <td>1150887823404</td>\n",
       "    </tr>\n",
       "    <tr>\n",
       "      <th>15</th>\n",
       "      <td>Indonesia</td>\n",
       "      <td>1015420587285</td>\n",
       "    </tr>\n",
       "    <tr>\n",
       "      <th>16</th>\n",
       "      <td>Turkey</td>\n",
       "      <td>851549299635</td>\n",
       "    </tr>\n",
       "    <tr>\n",
       "      <th>17</th>\n",
       "      <td>Netherlands</td>\n",
       "      <td>830572618850</td>\n",
       "    </tr>\n",
       "    <tr>\n",
       "      <th>18</th>\n",
       "      <td>Saudi Arabia</td>\n",
       "      <td>686738400000</td>\n",
       "    </tr>\n",
       "    <tr>\n",
       "      <th>19</th>\n",
       "      <td>Switzerland</td>\n",
       "      <td>678965423322</td>\n",
       "    </tr>\n",
       "    <tr>\n",
       "      <th>20</th>\n",
       "      <td>Argentina</td>\n",
       "      <td>637430331479</td>\n",
       "    </tr>\n",
       "    <tr>\n",
       "      <th>21</th>\n",
       "      <td>Sweden</td>\n",
       "      <td>535607385506</td>\n",
       "    </tr>\n",
       "    <tr>\n",
       "      <th>22</th>\n",
       "      <td>Poland</td>\n",
       "      <td>526465839003</td>\n",
       "    </tr>\n",
       "  </tbody>\n",
       "</table>\n",
       "</div>"
      ],
      "text/plain": [
       "           Country             Gdp\n",
       "0    United States  19485394000000\n",
       "1            China  12237700479375\n",
       "2            Japan   4872415104315\n",
       "3          Germany   3693204332230\n",
       "4            India   2650725335364\n",
       "5   United Kingdom   2637866340434\n",
       "6           France   2582501307216\n",
       "7           Brazil   2053594877013\n",
       "8            Italy   1943835376342\n",
       "9           Canada   1647120175449\n",
       "10          Russia   1578417211937\n",
       "11     South Korea   1530750923149\n",
       "12       Australia   1323421072479\n",
       "13           Spain   1314314164402\n",
       "14          Mexico   1150887823404\n",
       "15       Indonesia   1015420587285\n",
       "16          Turkey    851549299635\n",
       "17     Netherlands    830572618850\n",
       "18    Saudi Arabia    686738400000\n",
       "19     Switzerland    678965423322\n",
       "20       Argentina    637430331479\n",
       "21          Sweden    535607385506\n",
       "22          Poland    526465839003"
      ]
     },
     "execution_count": 156,
     "metadata": {},
     "output_type": "execute_result"
    }
   ],
   "source": [
    "list=df[['Country','Gdp']]\n",
    "list"
   ]
  },
  {
   "cell_type": "code",
   "execution_count": 157,
   "metadata": {},
   "outputs": [
    {
     "data": {
      "text/plain": [
       "[['United States', 19485394000000],\n",
       " ['China', 12237700479375],\n",
       " ['Japan', 4872415104315],\n",
       " ['Germany', 3693204332230],\n",
       " ['India', 2650725335364],\n",
       " ['United Kingdom', 2637866340434],\n",
       " ['France', 2582501307216],\n",
       " ['Brazil', 2053594877013],\n",
       " ['Italy', 1943835376342],\n",
       " ['Canada', 1647120175449],\n",
       " ['Russia', 1578417211937],\n",
       " ['South Korea', 1530750923149],\n",
       " ['Australia', 1323421072479],\n",
       " ['Spain', 1314314164402],\n",
       " ['Mexico', 1150887823404],\n",
       " ['Indonesia', 1015420587285],\n",
       " ['Turkey', 851549299635],\n",
       " ['Netherlands', 830572618850],\n",
       " ['Saudi Arabia', 686738400000],\n",
       " ['Switzerland', 678965423322],\n",
       " ['Argentina', 637430331479],\n",
       " ['Sweden', 535607385506],\n",
       " ['Poland', 526465839003]]"
      ]
     },
     "execution_count": 157,
     "metadata": {},
     "output_type": "execute_result"
    }
   ],
   "source": [
    "list.values.tolist()"
   ]
  },
  {
   "cell_type": "code",
   "execution_count": 158,
   "metadata": {},
   "outputs": [],
   "source": [
    "#a=df.filter(['Country','Gdp'])\n",
    "#p=a.values.tolist()"
   ]
  },
  {
   "cell_type": "markdown",
   "metadata": {},
   "source": [
    "********"
   ]
  },
  {
   "cell_type": "markdown",
   "metadata": {},
   "source": [
    "Print the highest GDP value, lowest GDP value, mean GDP value, standardized GDP \n",
    "value, and the sum of all the GDPs"
   ]
  },
  {
   "cell_type": "code",
   "execution_count": 170,
   "metadata": {},
   "outputs": [
    {
     "data": {
      "text/plain": [
       "count    2.300000e+01\n",
       "mean     2.889778e+12\n",
       "std      4.369850e+12\n",
       "min      5.264658e+11\n",
       "25%      8.410610e+11\n",
       "50%      1.530751e+12\n",
       "75%      2.610184e+12\n",
       "max      1.948539e+13\n",
       "Name: Gdp, dtype: float64"
      ]
     },
     "execution_count": 170,
     "metadata": {},
     "output_type": "execute_result"
    }
   ],
   "source": [
    "df['Gdp'].describe()"
   ]
  },
  {
   "cell_type": "markdown",
   "metadata": {},
   "source": [
    "*****"
   ]
  },
  {
   "cell_type": "markdown",
   "metadata": {},
   "source": [
    "the top 5 highest GDP countries "
   ]
  },
  {
   "cell_type": "code",
   "execution_count": 197,
   "metadata": {},
   "outputs": [],
   "source": [
    "K=df[['Country','Gdp']].head()"
   ]
  },
  {
   "cell_type": "code",
   "execution_count": 198,
   "metadata": {},
   "outputs": [
    {
     "data": {
      "text/html": [
       "<div>\n",
       "<style scoped>\n",
       "    .dataframe tbody tr th:only-of-type {\n",
       "        vertical-align: middle;\n",
       "    }\n",
       "\n",
       "    .dataframe tbody tr th {\n",
       "        vertical-align: top;\n",
       "    }\n",
       "\n",
       "    .dataframe thead th {\n",
       "        text-align: right;\n",
       "    }\n",
       "</style>\n",
       "<table border=\"1\" class=\"dataframe\">\n",
       "  <thead>\n",
       "    <tr style=\"text-align: right;\">\n",
       "      <th></th>\n",
       "      <th>Country</th>\n",
       "      <th>Gdp</th>\n",
       "    </tr>\n",
       "  </thead>\n",
       "  <tbody>\n",
       "    <tr>\n",
       "      <th>0</th>\n",
       "      <td>United States</td>\n",
       "      <td>19485394000000</td>\n",
       "    </tr>\n",
       "    <tr>\n",
       "      <th>1</th>\n",
       "      <td>China</td>\n",
       "      <td>12237700479375</td>\n",
       "    </tr>\n",
       "    <tr>\n",
       "      <th>2</th>\n",
       "      <td>Japan</td>\n",
       "      <td>4872415104315</td>\n",
       "    </tr>\n",
       "    <tr>\n",
       "      <th>3</th>\n",
       "      <td>Germany</td>\n",
       "      <td>3693204332230</td>\n",
       "    </tr>\n",
       "    <tr>\n",
       "      <th>4</th>\n",
       "      <td>India</td>\n",
       "      <td>2650725335364</td>\n",
       "    </tr>\n",
       "  </tbody>\n",
       "</table>\n",
       "</div>"
      ],
      "text/plain": [
       "         Country             Gdp\n",
       "0  United States  19485394000000\n",
       "1          China  12237700479375\n",
       "2          Japan   4872415104315\n",
       "3        Germany   3693204332230\n",
       "4          India   2650725335364"
      ]
     },
     "execution_count": 198,
     "metadata": {},
     "output_type": "execute_result"
    }
   ],
   "source": [
    "K"
   ]
  },
  {
   "cell_type": "code",
   "execution_count": 200,
   "metadata": {},
   "outputs": [
    {
     "data": {
      "image/png": "[encoded data removed]",
      "text/plain": [
       "<Figure size 432x288 with 1 Axes>"
      ]
     },
     "metadata": {
      "needs_background": "light"
     },
     "output_type": "display_data"
    }
   ],
   "source": [
    "plt.bar(K['Country'],K['Gdp'],color=['darkmagenta', 'mediumvioletred', 'magenta', 'magenta', 'orchid'])\n",
    "plt.xlabel('countries')\n",
    "plt.ylabel('GDP')\n",
    "plt.title('•the top 5 highest GDP countries')#deeppink mediumvioletred darkmagenta\n",
    "plt.plot(figsize=(100,100))\n",
    "plt.show()"
   ]
  },
  {
   "cell_type": "markdown",
   "metadata": {},
   "source": [
    "******"
   ]
  },
  {
   "cell_type": "markdown",
   "metadata": {},
   "source": [
    "Share of World GDP for the top six"
   ]
  },
  {
   "cell_type": "code",
   "execution_count": 201,
   "metadata": {},
   "outputs": [
    {
     "data": {
      "text/html": [
       "<div>\n",
       "<style scoped>\n",
       "    .dataframe tbody tr th:only-of-type {\n",
       "        vertical-align: middle;\n",
       "    }\n",
       "\n",
       "    .dataframe tbody tr th {\n",
       "        vertical-align: top;\n",
       "    }\n",
       "\n",
       "    .dataframe thead th {\n",
       "        text-align: right;\n",
       "    }\n",
       "</style>\n",
       "<table border=\"1\" class=\"dataframe\">\n",
       "  <thead>\n",
       "    <tr style=\"text-align: right;\">\n",
       "      <th></th>\n",
       "      <th>Country</th>\n",
       "      <th>ShareOfWorldGdp</th>\n",
       "    </tr>\n",
       "  </thead>\n",
       "  <tbody>\n",
       "    <tr>\n",
       "      <th>0</th>\n",
       "      <td>United States</td>\n",
       "      <td>24.08%</td>\n",
       "    </tr>\n",
       "    <tr>\n",
       "      <th>1</th>\n",
       "      <td>China</td>\n",
       "      <td>15.12%</td>\n",
       "    </tr>\n",
       "    <tr>\n",
       "      <th>2</th>\n",
       "      <td>Japan</td>\n",
       "      <td>6.02%</td>\n",
       "    </tr>\n",
       "    <tr>\n",
       "      <th>3</th>\n",
       "      <td>Germany</td>\n",
       "      <td>4.56%</td>\n",
       "    </tr>\n",
       "    <tr>\n",
       "      <th>4</th>\n",
       "      <td>India</td>\n",
       "      <td>3.28%</td>\n",
       "    </tr>\n",
       "    <tr>\n",
       "      <th>5</th>\n",
       "      <td>United Kingdom</td>\n",
       "      <td>3.26%</td>\n",
       "    </tr>\n",
       "  </tbody>\n",
       "</table>\n",
       "</div>"
      ],
      "text/plain": [
       "          Country ShareOfWorldGdp\n",
       "0   United States          24.08%\n",
       "1           China          15.12%\n",
       "2           Japan           6.02%\n",
       "3         Germany           4.56%\n",
       "4           India           3.28%\n",
       "5  United Kingdom           3.26%"
      ]
     },
     "execution_count": 201,
     "metadata": {},
     "output_type": "execute_result"
    }
   ],
   "source": [
    "P=df[['Country','ShareOfWorldGdp']].head(6)\n",
    "P"
   ]
  },
  {
   "cell_type": "code",
   "execution_count": 202,
   "metadata": {},
   "outputs": [],
   "source": [
    "P['ShareOfWorldGdp'] = P['ShareOfWorldGdp'].str.rstrip('%').astype('float')/100.0"
   ]
  },
  {
   "cell_type": "code",
   "execution_count": 203,
   "metadata": {},
   "outputs": [
    {
     "data": {
      "text/html": [
       "<div>\n",
       "<style scoped>\n",
       "    .dataframe tbody tr th:only-of-type {\n",
       "        vertical-align: middle;\n",
       "    }\n",
       "\n",
       "    .dataframe tbody tr th {\n",
       "        vertical-align: top;\n",
       "    }\n",
       "\n",
       "    .dataframe thead th {\n",
       "        text-align: right;\n",
       "    }\n",
       "</style>\n",
       "<table border=\"1\" class=\"dataframe\">\n",
       "  <thead>\n",
       "    <tr style=\"text-align: right;\">\n",
       "      <th></th>\n",
       "      <th>Country</th>\n",
       "      <th>ShareOfWorldGdp</th>\n",
       "    </tr>\n",
       "  </thead>\n",
       "  <tbody>\n",
       "    <tr>\n",
       "      <th>0</th>\n",
       "      <td>United States</td>\n",
       "      <td>0.2408</td>\n",
       "    </tr>\n",
       "    <tr>\n",
       "      <th>1</th>\n",
       "      <td>China</td>\n",
       "      <td>0.1512</td>\n",
       "    </tr>\n",
       "    <tr>\n",
       "      <th>2</th>\n",
       "      <td>Japan</td>\n",
       "      <td>0.0602</td>\n",
       "    </tr>\n",
       "    <tr>\n",
       "      <th>3</th>\n",
       "      <td>Germany</td>\n",
       "      <td>0.0456</td>\n",
       "    </tr>\n",
       "    <tr>\n",
       "      <th>4</th>\n",
       "      <td>India</td>\n",
       "      <td>0.0328</td>\n",
       "    </tr>\n",
       "    <tr>\n",
       "      <th>5</th>\n",
       "      <td>United Kingdom</td>\n",
       "      <td>0.0326</td>\n",
       "    </tr>\n",
       "  </tbody>\n",
       "</table>\n",
       "</div>"
      ],
      "text/plain": [
       "          Country  ShareOfWorldGdp\n",
       "0   United States           0.2408\n",
       "1           China           0.1512\n",
       "2           Japan           0.0602\n",
       "3         Germany           0.0456\n",
       "4           India           0.0328\n",
       "5  United Kingdom           0.0326"
      ]
     },
     "execution_count": 203,
     "metadata": {},
     "output_type": "execute_result"
    }
   ],
   "source": [
    "P"
   ]
  },
  {
   "cell_type": "code",
   "execution_count": 204,
   "metadata": {},
   "outputs": [
    {
     "data": {
      "text/plain": [
       "Country             object\n",
       "ShareOfWorldGdp    float64\n",
       "dtype: object"
      ]
     },
     "execution_count": 204,
     "metadata": {},
     "output_type": "execute_result"
    }
   ],
   "source": [
    "P.dtypes"
   ]
  },
  {
   "cell_type": "code",
   "execution_count": 205,
   "metadata": {},
   "outputs": [
    {
     "data": {
      "image/png": "[encoded data removed]",
      "text/plain": [
       "<Figure size 432x288 with 1 Axes>"
      ]
     },
     "metadata": {},
     "output_type": "display_data"
    }
   ],
   "source": [
    "plt.pie(P['ShareOfWorldGdp'],labels=P['Country'],autopct='%1.2f%%',textprops={'color':\"b\"})\n",
    "plt.plot(figsize=(20,10))\n",
    "plt.show()"
   ]
  }
 ],
 "metadata": {
  "kernelspec": {
   "display_name": "Python 3.10.4 64-bit",
   "language": "python",
   "name": "python3"
  },
  "language_info": {
   "codemirror_mode": {
    "name": "ipython",
    "version": 3
   },
   "file_extension": ".py",
   "mimetype": "text/x-python",
   "name": "python",
   "nbconvert_exporter": "python",
   "pygments_lexer": "ipython3",
   "version": "3.10.4"
  },
  "orig_nbformat": 4,
  "vscode": {
   "interpreter": {
    "hash": "9677b04aa48d3d5e628c90dc42a5496ce4dd0e854300188d092aefe987e73260"
   }
  }
 },
 "nbformat": 4,
 "nbformat_minor": 2
}
