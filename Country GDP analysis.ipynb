{
 "cells": [
  {
   "cell_type": "markdown",
   "metadata": {},
   "source": [
    "# • project objective:"
   ]
  },
  {
   "cell_type": "markdown",
   "metadata": {},
   "source": [
    "We needs to collect data by scraping the website \"https://2u.pw/AXCb7\" to get GDP data to analyze, and answer some questions"
   ]
  },
  {
   "cell_type": "markdown",
   "metadata": {},
   "source": [
    "#### Evaluate the dataset containing the GDPs of different countries to:"
   ]
  },
  {
   "cell_type": "markdown",
   "metadata": {},
   "source": [
    "• Find and print the name of the country with the highest GDP"
   ]
  },
  {
   "cell_type": "markdown",
   "metadata": {},
   "source": [
    "• Find and print the name of the country with the lowest GDP"
   ]
  },
  {
   "cell_type": "markdown",
   "metadata": {},
   "source": [
    "• Print out the entire list of the countries with their GDPs"
   ]
  },
  {
   "cell_type": "markdown",
   "metadata": {},
   "source": [
    "• Print the highest GDP value, lowest GDP value, mean GDP value, standardized GDP \n",
    "value, and the sum of all the GDPs"
   ]
  },
  {
   "cell_type": "markdown",
   "metadata": {},
   "source": [
    "• the top 5 highest GDP countries "
   ]
  },
  {
   "cell_type": "markdown",
   "metadata": {},
   "source": [
    "• Share of World GDP for the top five "
   ]
  },
  {
   "cell_type": "markdown",
   "metadata": {},
   "source": [
    "****"
   ]
  },
  {
   "cell_type": "code",
   "execution_count": 1,
   "metadata": {},
   "outputs": [],
   "source": [
    "import pandas as pd \n",
    "import numpy as np\n",
    "import pandasql as psql\n",
    "import matplotlib.pyplot as plt\n",
    "%matplotlib inline"
   ]
  },
  {
   "cell_type": "code",
   "execution_count": 2,
   "metadata": {},
   "outputs": [],
   "source": [
    "data=pd.read_csv('web_data_cleaned.csv')"
   ]
  },
  {
   "cell_type": "code",
   "execution_count": 3,
   "metadata": {},
   "outputs": [
    {
     "data": {
      "text/html": [
       "<div>\n",
       "<style scoped>\n",
       "    .dataframe tbody tr th:only-of-type {\n",
       "        vertical-align: middle;\n",
       "    }\n",
       "\n",
       "    .dataframe tbody tr th {\n",
       "        vertical-align: top;\n",
       "    }\n",
       "\n",
       "    .dataframe thead th {\n",
       "        text-align: right;\n",
       "    }\n",
       "</style>\n",
       "<table border=\"1\" class=\"dataframe\">\n",
       "  <thead>\n",
       "    <tr style=\"text-align: right;\">\n",
       "      <th></th>\n",
       "      <th>ID</th>\n",
       "      <th>Country</th>\n",
       "      <th>GDP (nominal, 2017)</th>\n",
       "      <th>GDP growth</th>\n",
       "      <th>Population (2017)</th>\n",
       "      <th>GDP per capita</th>\n",
       "      <th>Share of World GDP</th>\n",
       "    </tr>\n",
       "  </thead>\n",
       "  <tbody>\n",
       "    <tr>\n",
       "      <th>0</th>\n",
       "      <td>1</td>\n",
       "      <td>United States</td>\n",
       "      <td>19485394000000</td>\n",
       "      <td>2.27%</td>\n",
       "      <td>325084756</td>\n",
       "      <td>$59,939</td>\n",
       "      <td>24.08%</td>\n",
       "    </tr>\n",
       "    <tr>\n",
       "      <th>1</th>\n",
       "      <td>2</td>\n",
       "      <td>China</td>\n",
       "      <td>12237700479375</td>\n",
       "      <td>6.90%</td>\n",
       "      <td>1421021791</td>\n",
       "      <td>$8,612</td>\n",
       "      <td>15.12%</td>\n",
       "    </tr>\n",
       "    <tr>\n",
       "      <th>2</th>\n",
       "      <td>3</td>\n",
       "      <td>Japan</td>\n",
       "      <td>4872415104315</td>\n",
       "      <td>1.71%</td>\n",
       "      <td>127502725</td>\n",
       "      <td>$38,214</td>\n",
       "      <td>6.02%</td>\n",
       "    </tr>\n",
       "    <tr>\n",
       "      <th>3</th>\n",
       "      <td>4</td>\n",
       "      <td>Germany</td>\n",
       "      <td>3693204332230</td>\n",
       "      <td>2.22%</td>\n",
       "      <td>82658409</td>\n",
       "      <td>$44,680</td>\n",
       "      <td>4.56%</td>\n",
       "    </tr>\n",
       "    <tr>\n",
       "      <th>4</th>\n",
       "      <td>5</td>\n",
       "      <td>India</td>\n",
       "      <td>2650725335364</td>\n",
       "      <td>6.68%</td>\n",
       "      <td>1338676785</td>\n",
       "      <td>$1,980</td>\n",
       "      <td>3.28%</td>\n",
       "    </tr>\n",
       "  </tbody>\n",
       "</table>\n",
       "</div>"
      ],
      "text/plain": [
       "   ID        Country  GDP (nominal, 2017) GDP growth  Population (2017)  \\\n",
       "0   1  United States       19485394000000      2.27%          325084756   \n",
       "1   2          China       12237700479375      6.90%         1421021791   \n",
       "2   3          Japan        4872415104315      1.71%          127502725   \n",
       "3   4        Germany        3693204332230      2.22%           82658409   \n",
       "4   5          India        2650725335364      6.68%         1338676785   \n",
       "\n",
       "  GDP per capita Share of World GDP  \n",
       "0       $59,939              24.08%  \n",
       "1        $8,612              15.12%  \n",
       "2       $38,214               6.02%  \n",
       "3       $44,680               4.56%  \n",
       "4        $1,980               3.28%  "
      ]
     },
     "execution_count": 3,
     "metadata": {},
     "output_type": "execute_result"
    }
   ],
   "source": [
    "data.head()"
   ]
  },
  {
   "cell_type": "code",
   "execution_count": 4,
   "metadata": {},
   "outputs": [
    {
     "name": "stdout",
     "output_type": "stream",
     "text": [
      "<class 'pandas.core.frame.DataFrame'>\n",
      "RangeIndex: 190 entries, 0 to 189\n",
      "Data columns (total 7 columns):\n",
      " #   Column               Non-Null Count  Dtype \n",
      "---  ------               --------------  ----- \n",
      " 0   ID                   190 non-null    int64 \n",
      " 1   Country              190 non-null    object\n",
      " 2   GDP (nominal, 2017)  190 non-null    int64 \n",
      " 3   GDP growth           190 non-null    object\n",
      " 4   Population (2017)    190 non-null    int64 \n",
      " 5   GDP per capita       190 non-null    object\n",
      " 6   Share of World GDP   190 non-null    object\n",
      "dtypes: int64(3), object(4)\n",
      "memory usage: 10.5+ KB\n"
     ]
    }
   ],
   "source": [
    "data.info()"
   ]
  },
  {
   "cell_type": "markdown",
   "metadata": {},
   "source": [
    "***"
   ]
  },
  {
   "cell_type": "markdown",
   "metadata": {},
   "source": [
    "***"
   ]
  },
  {
   "cell_type": "markdown",
   "metadata": {},
   "source": [
    "faster"
   ]
  },
  {
   "cell_type": "code",
   "execution_count": 5,
   "metadata": {},
   "outputs": [
    {
     "data": {
      "text/plain": [
       "19485394000000"
      ]
     },
     "execution_count": 5,
     "metadata": {},
     "output_type": "execute_result"
    }
   ],
   "source": [
    "data['GDP (nominal, 2017)'].max()"
   ]
  },
  {
   "cell_type": "code",
   "execution_count": 6,
   "metadata": {},
   "outputs": [
    {
     "data": {
      "text/html": [
       "<div>\n",
       "<style scoped>\n",
       "    .dataframe tbody tr th:only-of-type {\n",
       "        vertical-align: middle;\n",
       "    }\n",
       "\n",
       "    .dataframe tbody tr th {\n",
       "        vertical-align: top;\n",
       "    }\n",
       "\n",
       "    .dataframe thead th {\n",
       "        text-align: right;\n",
       "    }\n",
       "</style>\n",
       "<table border=\"1\" class=\"dataframe\">\n",
       "  <thead>\n",
       "    <tr style=\"text-align: right;\">\n",
       "      <th></th>\n",
       "      <th>ID</th>\n",
       "      <th>Country</th>\n",
       "      <th>GDP (nominal, 2017)</th>\n",
       "      <th>GDP growth</th>\n",
       "      <th>Population (2017)</th>\n",
       "      <th>GDP per capita</th>\n",
       "      <th>Share of World GDP</th>\n",
       "    </tr>\n",
       "  </thead>\n",
       "  <tbody>\n",
       "    <tr>\n",
       "      <th>0</th>\n",
       "      <td>1</td>\n",
       "      <td>United States</td>\n",
       "      <td>19485394000000</td>\n",
       "      <td>2.27%</td>\n",
       "      <td>325084756</td>\n",
       "      <td>$59,939</td>\n",
       "      <td>24.08%</td>\n",
       "    </tr>\n",
       "  </tbody>\n",
       "</table>\n",
       "</div>"
      ],
      "text/plain": [
       "   ID        Country  GDP (nominal, 2017) GDP growth  Population (2017)  \\\n",
       "0   1  United States       19485394000000      2.27%          325084756   \n",
       "\n",
       "  GDP per capita Share of World GDP  \n",
       "0       $59,939              24.08%  "
      ]
     },
     "execution_count": 6,
     "metadata": {},
     "output_type": "execute_result"
    }
   ],
   "source": [
    "data[(data['GDP (nominal, 2017)']==19485394000000)]"
   ]
  },
  {
   "cell_type": "markdown",
   "metadata": {},
   "source": [
    "*****"
   ]
  },
  {
   "cell_type": "markdown",
   "metadata": {},
   "source": [
    "### 1&2"
   ]
  },
  {
   "cell_type": "code",
   "execution_count": 7,
   "metadata": {},
   "outputs": [
    {
     "data": {
      "text/plain": [
       "Index(['ID', 'Country', 'GDP (nominal, 2017)', 'GDP growth',\n",
       "       'Population (2017)', 'GDP per capita', 'Share of World GDP'],\n",
       "      dtype='object')"
      ]
     },
     "execution_count": 7,
     "metadata": {},
     "output_type": "execute_result"
    }
   ],
   "source": [
    "data.columns"
   ]
  },
  {
   "cell_type": "code",
   "execution_count": 8,
   "metadata": {},
   "outputs": [],
   "source": [
    "df=data[['Country','GDP (nominal, 2017)']]"
   ]
  },
  {
   "cell_type": "code",
   "execution_count": 9,
   "metadata": {},
   "outputs": [],
   "source": [
    "maxd=df['GDP (nominal, 2017)'].max() "
   ]
  },
  {
   "cell_type": "code",
   "execution_count": 10,
   "metadata": {},
   "outputs": [],
   "source": [
    "lowest=df['GDP (nominal, 2017)'].min() "
   ]
  },
  {
   "cell_type": "code",
   "execution_count": 11,
   "metadata": {},
   "outputs": [
    {
     "data": {
      "text/plain": [
       "19485394000000"
      ]
     },
     "execution_count": 11,
     "metadata": {},
     "output_type": "execute_result"
    }
   ],
   "source": [
    "maxd"
   ]
  },
  {
   "cell_type": "code",
   "execution_count": 12,
   "metadata": {},
   "outputs": [
    {
     "data": {
      "text/plain": [
       "39731317"
      ]
     },
     "execution_count": 12,
     "metadata": {},
     "output_type": "execute_result"
    }
   ],
   "source": [
    "lowest"
   ]
  },
  {
   "cell_type": "code",
   "execution_count": 13,
   "metadata": {},
   "outputs": [
    {
     "name": "stdout",
     "output_type": "stream",
     "text": [
      "(array([0], dtype=int64),)\n"
     ]
    }
   ],
   "source": [
    "s=np.where(df['GDP (nominal, 2017)'] == 19485394000000)\n",
    "print(s)"
   ]
  },
  {
   "cell_type": "code",
   "execution_count": 14,
   "metadata": {},
   "outputs": [],
   "source": [
    "n=np.where(df['GDP (nominal, 2017)'] == 39731317)\n"
   ]
  },
  {
   "cell_type": "code",
   "execution_count": 15,
   "metadata": {},
   "outputs": [
    {
     "data": {
      "text/html": [
       "<div>\n",
       "<style scoped>\n",
       "    .dataframe tbody tr th:only-of-type {\n",
       "        vertical-align: middle;\n",
       "    }\n",
       "\n",
       "    .dataframe tbody tr th {\n",
       "        vertical-align: top;\n",
       "    }\n",
       "\n",
       "    .dataframe thead th {\n",
       "        text-align: right;\n",
       "    }\n",
       "</style>\n",
       "<table border=\"1\" class=\"dataframe\">\n",
       "  <thead>\n",
       "    <tr style=\"text-align: right;\">\n",
       "      <th></th>\n",
       "      <th>Country</th>\n",
       "      <th>GDP (nominal, 2017)</th>\n",
       "    </tr>\n",
       "  </thead>\n",
       "  <tbody>\n",
       "    <tr>\n",
       "      <th>0</th>\n",
       "      <td>United States</td>\n",
       "      <td>19485394000000</td>\n",
       "    </tr>\n",
       "  </tbody>\n",
       "</table>\n",
       "</div>"
      ],
      "text/plain": [
       "         Country  GDP (nominal, 2017)\n",
       "0  United States       19485394000000"
      ]
     },
     "execution_count": 15,
     "metadata": {},
     "output_type": "execute_result"
    }
   ],
   "source": [
    "#country with the highest GDP\n",
    "df.iloc[s]"
   ]
  },
  {
   "cell_type": "code",
   "execution_count": 16,
   "metadata": {},
   "outputs": [
    {
     "data": {
      "text/html": [
       "<div>\n",
       "<style scoped>\n",
       "    .dataframe tbody tr th:only-of-type {\n",
       "        vertical-align: middle;\n",
       "    }\n",
       "\n",
       "    .dataframe tbody tr th {\n",
       "        vertical-align: top;\n",
       "    }\n",
       "\n",
       "    .dataframe thead th {\n",
       "        text-align: right;\n",
       "    }\n",
       "</style>\n",
       "<table border=\"1\" class=\"dataframe\">\n",
       "  <thead>\n",
       "    <tr style=\"text-align: right;\">\n",
       "      <th></th>\n",
       "      <th>Country</th>\n",
       "      <th>GDP (nominal, 2017)</th>\n",
       "    </tr>\n",
       "  </thead>\n",
       "  <tbody>\n",
       "    <tr>\n",
       "      <th>189</th>\n",
       "      <td>Tuvalu</td>\n",
       "      <td>39731317</td>\n",
       "    </tr>\n",
       "  </tbody>\n",
       "</table>\n",
       "</div>"
      ],
      "text/plain": [
       "    Country  GDP (nominal, 2017)\n",
       "189  Tuvalu             39731317"
      ]
     },
     "execution_count": 16,
     "metadata": {},
     "output_type": "execute_result"
    }
   ],
   "source": [
    "#country with the lowest GDP\n",
    "df.iloc[n]"
   ]
  },
  {
   "cell_type": "markdown",
   "metadata": {},
   "source": [
    "****"
   ]
  },
  {
   "cell_type": "markdown",
   "metadata": {},
   "source": [
    "### 3"
   ]
  },
  {
   "cell_type": "code",
   "execution_count": 17,
   "metadata": {},
   "outputs": [],
   "source": [
    "a=data.filter(['Country','GDP (nominal, 2017)'])"
   ]
  },
  {
   "cell_type": "code",
   "execution_count": 18,
   "metadata": {},
   "outputs": [],
   "source": [
    "p=a.values.tolist()"
   ]
  },
  {
   "cell_type": "code",
   "execution_count": 19,
   "metadata": {},
   "outputs": [
    {
     "data": {
      "text/plain": [
       "[['United States', 19485394000000],\n",
       " ['China', 12237700479375],\n",
       " ['Japan', 4872415104315],\n",
       " ['Germany', 3693204332230],\n",
       " ['India', 2650725335364],\n",
       " ['United Kingdom', 2637866340434],\n",
       " ['France', 2582501307216],\n",
       " ['Brazil', 2053594877013],\n",
       " ['Italy', 1943835376342],\n",
       " ['Canada', 1647120175449],\n",
       " ['Russia', 1578417211937],\n",
       " ['South Korea', 1530750923149],\n",
       " ['Australia', 1323421072479],\n",
       " ['Spain', 1314314164402],\n",
       " ['Mexico', 1150887823404],\n",
       " ['Indonesia', 1015420587285],\n",
       " ['Turkey', 851549299635],\n",
       " ['Netherlands', 830572618850],\n",
       " ['Saudi Arabia', 686738400000],\n",
       " ['Switzerland', 678965423322],\n",
       " ['Argentina', 637430331479],\n",
       " ['Sweden', 535607385506],\n",
       " ['Poland', 526465839003],\n",
       " ['Belgium', 494763551891],\n",
       " ['Thailand', 455302682986],\n",
       " ['Iran', 454012768724],\n",
       " ['Austria', 416835975862],\n",
       " ['Norway', 399488897844],\n",
       " ['United Arab Emirates', 382575085092],\n",
       " ['Nigeria', 375745486521],\n",
       " ['Israel', 353268411919],\n",
       " ['South Africa', 348871647960],\n",
       " ['Hong Kong', 341449340451],\n",
       " ['Ireland', 331430014003],\n",
       " ['Denmark', 329865537183],\n",
       " ['Singapore', 323907234412],\n",
       " ['Malaysia', 314710259511],\n",
       " ['Colombia', 314457601860],\n",
       " ['Philippines', 313595208737],\n",
       " ['Pakistan', 304951818494],\n",
       " ['Chile', 277075944402],\n",
       " ['Finland', 252301837573],\n",
       " ['Bangladesh', 249723862487],\n",
       " ['Egypt', 235369129338],\n",
       " ['Vietnam', 223779865815],\n",
       " ['Portugal', 219308128887],\n",
       " ['Czech Republic (Czechia)', 215913545038],\n",
       " ['Romania', 211883923504],\n",
       " ['Peru', 211389272242],\n",
       " ['New Zealand', 204139049909],\n",
       " ['Greece', 203085551429],\n",
       " ['Iraq', 192060810811],\n",
       " ['Algeria', 167555280113],\n",
       " ['Qatar', 166928571429],\n",
       " ['Kazakhstan', 162886867832],\n",
       " ['Hungary', 139761138103],\n",
       " ['Angola', 122123822334],\n",
       " ['Kuwait', 120126277613],\n",
       " ['Sudan', 117487857143],\n",
       " ['Ukraine', 112154185121],\n",
       " ['Morocco', 109708728849],\n",
       " ['Ecuador', 104295862000],\n",
       " ['Cuba', 96851000000],\n",
       " ['Slovakia', 95617670260],\n",
       " ['Sri Lanka', 87357205923],\n",
       " ['Ethiopia', 80561496134],\n",
       " ['Kenya', 79263075749],\n",
       " ['Dominican Republic', 75931656815],\n",
       " ['Guatemala', 75620095538],\n",
       " ['Oman', 70783875163],\n",
       " ['Myanmar', 67068745521],\n",
       " ['Luxembourg', 62316359824],\n",
       " ['Panama', 62283756584],\n",
       " ['Ghana', 58996776238],\n",
       " ['Bulgaria', 58220973783],\n",
       " ['Costa Rica', 57285984448],\n",
       " ['Uruguay', 56156972158],\n",
       " ['Croatia', 55213087271],\n",
       " ['Belarus', 54456465473],\n",
       " ['Lebanon', 53576985687],\n",
       " ['Tanzania', 53320625959],\n",
       " ['Macao', 50361201096],\n",
       " ['Uzbekistan', 49677172714],\n",
       " ['Slovenia', 48769655479],\n",
       " ['Lithuania', 47544459559],\n",
       " ['Serbia', 41431648801],\n",
       " ['Azerbaijan', 40747792238],\n",
       " ['Jordan', 40068308451],\n",
       " ['Tunisia', 39952095561],\n",
       " ['Paraguay', 39667400816],\n",
       " ['Libya', 38107728083],\n",
       " ['Turkmenistan', 37926285714],\n",
       " ['DR Congo', 37642482562],\n",
       " ['Bolivia', 37508642113],\n",
       " [\"Côte d'Ivoire\", 37353276059],\n",
       " ['Bahrain', 35432686170],\n",
       " ['Cameroon', 34922782311],\n",
       " ['Yemen', 31267675216],\n",
       " ['Latvia', 30463302414],\n",
       " ['Estonia', 26611651599],\n",
       " ['Uganda', 25995031850],\n",
       " ['Zambia', 25868142073],\n",
       " ['Nepal', 24880266905],\n",
       " ['El Salvador', 24805439600],\n",
       " ['Iceland', 24488467010],\n",
       " ['Honduras', 22978532897],\n",
       " ['Cambodia', 22158209503],\n",
       " ['Trinidad and Tobago', 22079017627],\n",
       " ['Cyprus', 22054225828],\n",
       " ['Zimbabwe', 22040902300],\n",
       " ['Senegal', 21070225735],\n",
       " ['Papua New Guinea', 20536314601],\n",
       " ['Afghanistan', 19543976895],\n",
       " ['Bosnia and Herzegovina', 18054854789],\n",
       " ['Botswana', 17406565823],\n",
       " ['Laos', 16853087485],\n",
       " ['Mali', 15334336144],\n",
       " ['Georgia', 15081338092],\n",
       " ['Gabon', 15013950984],\n",
       " ['Jamaica', 14781107822],\n",
       " ['State of Palestine', 14498100000],\n",
       " ['Nicaragua', 13814261536],\n",
       " ['Mauritius', 13266427697],\n",
       " ['Namibia', 13253698015],\n",
       " ['Albania', 13038538300],\n",
       " ['Mozambique', 12645508634],\n",
       " ['Malta', 12518134319],\n",
       " ['Burkina Faso', 12322864245],\n",
       " ['Equatorial Guinea', 12293579173],\n",
       " ['Bahamas', 12162100000],\n",
       " ['Brunei', 12128089002],\n",
       " ['Armenia', 11536590636],\n",
       " ['Madagascar', 11499803807],\n",
       " ['Mongolia', 11433635876],\n",
       " ['North Macedonia', 11279509014],\n",
       " ['Guinea', 10472514515],\n",
       " ['Chad', 9871247732],\n",
       " ['Benin', 9246696924],\n",
       " ['Rwanda', 9135454442],\n",
       " ['Congo', 8701334800],\n",
       " ['Haiti', 8408150518],\n",
       " ['Moldova', 8128493432],\n",
       " ['Niger', 8119710126],\n",
       " ['Kyrgyzstan', 7564738836],\n",
       " ['Tajikistan', 7146449583],\n",
       " ['Malawi', 6303292264],\n",
       " ['Guam', 5859000000],\n",
       " ['Fiji', 5061202767],\n",
       " ['Mauritania', 5024708656],\n",
       " ['Maldives', 4865546027],\n",
       " ['Montenegro', 4844592067],\n",
       " ['Togo', 4757776485],\n",
       " ['Barbados', 4673500000],\n",
       " ['Eswatini', 4433664364],\n",
       " ['Sierra Leone', 3775047334],\n",
       " ['Guyana', 3621046005],\n",
       " ['Liberia', 3285455000],\n",
       " ['Burundi', 3172416146],\n",
       " ['Andorra', 3012914131],\n",
       " ['Suriname', 2995827901],\n",
       " ['Timor-Leste', 2954621000],\n",
       " ['Aruba', 2700558659],\n",
       " ['Lesotho', 2578265358],\n",
       " ['Bhutan', 2528007911],\n",
       " ['Central African Republic', 1949411659],\n",
       " ['Belize', 1862614800],\n",
       " ['Cabo Verde', 1772706451],\n",
       " ['Saint Lucia', 1737504296],\n",
       " ['San Marino', 1632860041],\n",
       " ['Northern Mariana Islands', 1593000000],\n",
       " ['Antigua and Barbuda', 1510084751],\n",
       " ['Seychelles', 1497959569],\n",
       " ['Gambia', 1489464788],\n",
       " ['Guinea-Bissau', 1346841897],\n",
       " ['Solomon Islands', 1303453622],\n",
       " ['Grenada', 1126882296],\n",
       " ['Comoros', 1068124330],\n",
       " ['Saint Kitts & Nevis', 992007403],\n",
       " ['Vanuatu', 862879789],\n",
       " ['Samoa', 840927997],\n",
       " ['St. Vincent & Grenadines', 785222509],\n",
       " ['American Samoa', 634000000],\n",
       " ['Dominica', 496727000],\n",
       " ['Tonga', 427659795],\n",
       " ['Sao Tome & Principe', 392570293],\n",
       " ['Micronesia', 336427500],\n",
       " ['Palau', 289823500],\n",
       " ['Marshall Islands', 204173430],\n",
       " ['Kiribati', 185572502],\n",
       " ['Tuvalu', 39731317]]"
      ]
     },
     "execution_count": 19,
     "metadata": {},
     "output_type": "execute_result"
    }
   ],
   "source": [
    "p"
   ]
  },
  {
   "cell_type": "markdown",
   "metadata": {},
   "source": [
    "********"
   ]
  },
  {
   "cell_type": "markdown",
   "metadata": {},
   "source": [
    "### 4"
   ]
  },
  {
   "cell_type": "code",
   "execution_count": 20,
   "metadata": {},
   "outputs": [
    {
     "data": {
      "text/plain": [
       "count    1.900000e+02\n",
       "mean     4.188098e+11\n",
       "std      1.755006e+12\n",
       "min      3.973132e+07\n",
       "25%      8.121906e+09\n",
       "50%      3.639298e+10\n",
       "75%      2.117603e+11\n",
       "max      1.948539e+13\n",
       "Name: GDP (nominal, 2017), dtype: float64"
      ]
     },
     "execution_count": 20,
     "metadata": {},
     "output_type": "execute_result"
    }
   ],
   "source": [
    "data['GDP (nominal, 2017)'].describe()"
   ]
  },
  {
   "cell_type": "markdown",
   "metadata": {},
   "source": [
    "*****"
   ]
  },
  {
   "cell_type": "markdown",
   "metadata": {},
   "source": [
    "# 5"
   ]
  },
  {
   "cell_type": "code",
   "execution_count": 21,
   "metadata": {},
   "outputs": [],
   "source": [
    "K=data[['Country','GDP (nominal, 2017)']].head()"
   ]
  },
  {
   "cell_type": "code",
   "execution_count": 22,
   "metadata": {},
   "outputs": [
    {
     "data": {
      "text/html": [
       "<div>\n",
       "<style scoped>\n",
       "    .dataframe tbody tr th:only-of-type {\n",
       "        vertical-align: middle;\n",
       "    }\n",
       "\n",
       "    .dataframe tbody tr th {\n",
       "        vertical-align: top;\n",
       "    }\n",
       "\n",
       "    .dataframe thead th {\n",
       "        text-align: right;\n",
       "    }\n",
       "</style>\n",
       "<table border=\"1\" class=\"dataframe\">\n",
       "  <thead>\n",
       "    <tr style=\"text-align: right;\">\n",
       "      <th></th>\n",
       "      <th>Country</th>\n",
       "      <th>GDP (nominal, 2017)</th>\n",
       "    </tr>\n",
       "  </thead>\n",
       "  <tbody>\n",
       "    <tr>\n",
       "      <th>0</th>\n",
       "      <td>United States</td>\n",
       "      <td>19485394000000</td>\n",
       "    </tr>\n",
       "    <tr>\n",
       "      <th>1</th>\n",
       "      <td>China</td>\n",
       "      <td>12237700479375</td>\n",
       "    </tr>\n",
       "    <tr>\n",
       "      <th>2</th>\n",
       "      <td>Japan</td>\n",
       "      <td>4872415104315</td>\n",
       "    </tr>\n",
       "    <tr>\n",
       "      <th>3</th>\n",
       "      <td>Germany</td>\n",
       "      <td>3693204332230</td>\n",
       "    </tr>\n",
       "    <tr>\n",
       "      <th>4</th>\n",
       "      <td>India</td>\n",
       "      <td>2650725335364</td>\n",
       "    </tr>\n",
       "  </tbody>\n",
       "</table>\n",
       "</div>"
      ],
      "text/plain": [
       "         Country  GDP (nominal, 2017)\n",
       "0  United States       19485394000000\n",
       "1          China       12237700479375\n",
       "2          Japan        4872415104315\n",
       "3        Germany        3693204332230\n",
       "4          India        2650725335364"
      ]
     },
     "execution_count": 22,
     "metadata": {},
     "output_type": "execute_result"
    }
   ],
   "source": [
    "K"
   ]
  },
  {
   "cell_type": "code",
   "execution_count": 23,
   "metadata": {},
   "outputs": [
    {
     "data": {
      "image/png": "[encoded data removed]",
      "text/plain": [
       "<Figure size 432x288 with 1 Axes>"
      ]
     },
     "metadata": {
      "needs_background": "light"
     },
     "output_type": "display_data"
    }
   ],
   "source": [
    "plt.bar(K['Country'],K['GDP (nominal, 2017)'],color=['darkmagenta', 'mediumvioletred', 'magenta', 'magenta', 'orchid'])\n",
    "plt.xlabel('countries')\n",
    "plt.ylabel('GDP')\n",
    "plt.title('•the top 5 highest GDP countries')#deeppink mediumvioletred darkmagenta\n",
    "plt.plot(figsize=(12,7))\n",
    "plt.show()"
   ]
  },
  {
   "cell_type": "markdown",
   "metadata": {},
   "source": [
    "******"
   ]
  },
  {
   "cell_type": "markdown",
   "metadata": {},
   "source": [
    "# 6"
   ]
  },
  {
   "cell_type": "code",
   "execution_count": 24,
   "metadata": {},
   "outputs": [
    {
     "data": {
      "text/html": [
       "<div>\n",
       "<style scoped>\n",
       "    .dataframe tbody tr th:only-of-type {\n",
       "        vertical-align: middle;\n",
       "    }\n",
       "\n",
       "    .dataframe tbody tr th {\n",
       "        vertical-align: top;\n",
       "    }\n",
       "\n",
       "    .dataframe thead th {\n",
       "        text-align: right;\n",
       "    }\n",
       "</style>\n",
       "<table border=\"1\" class=\"dataframe\">\n",
       "  <thead>\n",
       "    <tr style=\"text-align: right;\">\n",
       "      <th></th>\n",
       "      <th>Country</th>\n",
       "      <th>Share of World GDP</th>\n",
       "    </tr>\n",
       "  </thead>\n",
       "  <tbody>\n",
       "    <tr>\n",
       "      <th>0</th>\n",
       "      <td>United States</td>\n",
       "      <td>24.08%</td>\n",
       "    </tr>\n",
       "    <tr>\n",
       "      <th>1</th>\n",
       "      <td>China</td>\n",
       "      <td>15.12%</td>\n",
       "    </tr>\n",
       "    <tr>\n",
       "      <th>2</th>\n",
       "      <td>Japan</td>\n",
       "      <td>6.02%</td>\n",
       "    </tr>\n",
       "    <tr>\n",
       "      <th>3</th>\n",
       "      <td>Germany</td>\n",
       "      <td>4.56%</td>\n",
       "    </tr>\n",
       "    <tr>\n",
       "      <th>4</th>\n",
       "      <td>India</td>\n",
       "      <td>3.28%</td>\n",
       "    </tr>\n",
       "  </tbody>\n",
       "</table>\n",
       "</div>"
      ],
      "text/plain": [
       "         Country Share of World GDP\n",
       "0  United States             24.08%\n",
       "1          China             15.12%\n",
       "2          Japan              6.02%\n",
       "3        Germany              4.56%\n",
       "4          India              3.28%"
      ]
     },
     "execution_count": 24,
     "metadata": {},
     "output_type": "execute_result"
    }
   ],
   "source": [
    "P=data[['Country','Share of World GDP']].head()\n",
    "P"
   ]
  },
  {
   "cell_type": "code",
   "execution_count": 25,
   "metadata": {},
   "outputs": [],
   "source": [
    "P['Share of World GDP'] = P['Share of World GDP'].str.rstrip('%').astype('float')/100.0"
   ]
  },
  {
   "cell_type": "code",
   "execution_count": 26,
   "metadata": {},
   "outputs": [
    {
     "data": {
      "text/html": [
       "<div>\n",
       "<style scoped>\n",
       "    .dataframe tbody tr th:only-of-type {\n",
       "        vertical-align: middle;\n",
       "    }\n",
       "\n",
       "    .dataframe tbody tr th {\n",
       "        vertical-align: top;\n",
       "    }\n",
       "\n",
       "    .dataframe thead th {\n",
       "        text-align: right;\n",
       "    }\n",
       "</style>\n",
       "<table border=\"1\" class=\"dataframe\">\n",
       "  <thead>\n",
       "    <tr style=\"text-align: right;\">\n",
       "      <th></th>\n",
       "      <th>Country</th>\n",
       "      <th>Share of World GDP</th>\n",
       "    </tr>\n",
       "  </thead>\n",
       "  <tbody>\n",
       "    <tr>\n",
       "      <th>0</th>\n",
       "      <td>United States</td>\n",
       "      <td>0.2408</td>\n",
       "    </tr>\n",
       "    <tr>\n",
       "      <th>1</th>\n",
       "      <td>China</td>\n",
       "      <td>0.1512</td>\n",
       "    </tr>\n",
       "    <tr>\n",
       "      <th>2</th>\n",
       "      <td>Japan</td>\n",
       "      <td>0.0602</td>\n",
       "    </tr>\n",
       "    <tr>\n",
       "      <th>3</th>\n",
       "      <td>Germany</td>\n",
       "      <td>0.0456</td>\n",
       "    </tr>\n",
       "    <tr>\n",
       "      <th>4</th>\n",
       "      <td>India</td>\n",
       "      <td>0.0328</td>\n",
       "    </tr>\n",
       "  </tbody>\n",
       "</table>\n",
       "</div>"
      ],
      "text/plain": [
       "         Country  Share of World GDP\n",
       "0  United States              0.2408\n",
       "1          China              0.1512\n",
       "2          Japan              0.0602\n",
       "3        Germany              0.0456\n",
       "4          India              0.0328"
      ]
     },
     "execution_count": 26,
     "metadata": {},
     "output_type": "execute_result"
    }
   ],
   "source": [
    "P"
   ]
  },
  {
   "cell_type": "code",
   "execution_count": 27,
   "metadata": {},
   "outputs": [
    {
     "data": {
      "text/plain": [
       "Country                object\n",
       "Share of World GDP    float64\n",
       "dtype: object"
      ]
     },
     "execution_count": 27,
     "metadata": {},
     "output_type": "execute_result"
    }
   ],
   "source": [
    "P.dtypes"
   ]
  },
  {
   "cell_type": "code",
   "execution_count": 28,
   "metadata": {},
   "outputs": [
    {
     "data": {
      "image/png": "[encoded data removed]",
      "text/plain": [
       "<Figure size 432x288 with 1 Axes>"
      ]
     },
     "metadata": {},
     "output_type": "display_data"
    }
   ],
   "source": [
    "plt.pie(P['Share of World GDP'],labels=P['Country'],autopct='%1.2f%%',textprops={'color':\"b\"})\n",
    "plt.plot(figsize=(20,10))\n",
    "plt.show()"
   ]
  }
 ],
 "metadata": {
  "kernelspec": {
   "display_name": "Python 3.10.4 64-bit",
   "language": "python",
   "name": "python3"
  },
  "language_info": {
   "codemirror_mode": {
    "name": "ipython",
    "version": 3
   },
   "file_extension": ".py",
   "mimetype": "text/x-python",
   "name": "python",
   "nbconvert_exporter": "python",
   "pygments_lexer": "ipython3",
   "version": "3.10.4"
  },
  "orig_nbformat": 4,
  "vscode": {
   "interpreter": {
    "hash": "9677b04aa48d3d5e628c90dc42a5496ce4dd0e854300188d092aefe987e73260"
   }
  }
 },
 "nbformat": 4,
 "nbformat_minor": 2
}
